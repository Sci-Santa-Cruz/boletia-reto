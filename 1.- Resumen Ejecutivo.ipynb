{
 "cells": [
  {
   "cell_type": "markdown",
   "metadata": {},
   "source": [
    "\n",
    "<div class=\"jumbotron\">\n",
    "  <h1><i class=\"fa fa-bar-chart\" aria-hidden=\"true\"></i> Resumen Ejecutivo</h1>\n",
    "  <p></p>\n",
    "</div>\n"
   ]
  },
  {
   "cell_type": "markdown",
   "metadata": {},
   "source": [
    "### Objetivo del documento\n",
    "El documento pretende mostrar los requerimientos, alcance del proyecto y orden en que se debe vizualizar los notebooks para una correcta conclusión.\n",
    "\n",
    "- Resumen ejecutivo\n",
    "- Integración y limpieza de datos\n",
    "- Exploración de datos & Ingeniería de características\n",
    "\n",
    "--------------------------------------------------------------------\n",
    "- Modelado\n",
    "- Prototipo\n",
    "- Pruebas unitarias\n",
    "- Pruebas de integración (pipeline completo ejecutandose)\n",
    "- Resultados y concluciones (slides)"
   ]
  },
  {
   "cell_type": "markdown",
   "metadata": {},
   "source": [
    "### Objetivos\n",
    "\n",
    "Generar un modelo que te permita encontrar los siguientes hallazgos:\n",
    "\n",
    "- Engagement de la audiencia con el artista\n",
    "- Clasificación de los tipos de fans con los que cuenta\n",
    "- Los momentos más destacados durante el evento ó cualquier otro hallazgo que tu encuentres en este dataset."
   ]
  },
  {
   "cell_type": "markdown",
   "metadata": {},
   "source": [
    "### Descripción\n",
    "\n",
    "Se cuenta con una dataset que contiene los comentarios de una transmición en vivo. Es necesario responder preguntas de negocio dadas y explorar los datos para la búsqueda de insights relevantes-\n",
    "\n"
   ]
  },
  {
   "cell_type": "markdown",
   "metadata": {},
   "source": [
    "### Objetivos Estratégicos\n",
    "\n"
   ]
  },
  {
   "cell_type": "markdown",
   "metadata": {},
   "source": [
    "NA"
   ]
  },
  {
   "cell_type": "markdown",
   "metadata": {},
   "source": [
    "### Alcance \n",
    "\n",
    "- Entendimiento del problema\n",
    "- Preparación de datos\n",
    "- Exploración de datos\n",
    "- Ingeniería de características\n",
    "- Respuestas y nuevos hallazgos\n",
    "---------------------------------------------------------------------------\n",
    "- Experimentar con al menos 3 algoritmos de modelado de datos\n",
    "- Superar el x% de accuracy\n",
    "- Seleccionar el modelo prototipo \n",
    "- Crear un clase prototipo (refatorización y metodos státicos,clases, de instancia) en código python\n",
    "- Crear unitarias y de integración\n",
    "- Prueba de despliegue\n",
    "- Documentación del proceso de análisis y modelado de datos\n",
    "------------------------------------------------------------------------------\n",
    "- Presentacón (PPT) ejecutiva de de resultados "
   ]
  },
  {
   "cell_type": "markdown",
   "metadata": {},
   "source": [
    "### Tecnologías\n",
    "\n",
    "- Python\n",
    "- Jupyter\n",
    "- Pandas\n",
    "\n",
    "\n",
    "-----------------------------------------\n",
    "- MLFlow\n",
    "- Vagrant\n"
   ]
  },
  {
   "cell_type": "markdown",
   "metadata": {},
   "source": [
    "### Fechas \n",
    "\n",
    "- Fecha de inicio 20-01-2022 10:00\n",
    "- Fecha limite 28-01-2021 12:000\n"
   ]
  },
  {
   "cell_type": "markdown",
   "metadata": {},
   "source": [
    "### Contexto a alto nivel\n",
    "\n",
    "NA"
   ]
  },
  {
   "cell_type": "markdown",
   "metadata": {},
   "source": [
    "### Metodología\n",
    "\n",
    "\n",
    "Debido al periodo reducido de tiempo utilizaremos el framework reducido de _design thinking_ + _scrum_ + _lean_. El cual al enfocarse a un solución basa en datos se denomina _Data thinking_ .\n",
    "\n",
    "Este framework sólo se utiliza para la la etapa de _design thinking_ y la primera iteración en la cual se construye el prototipo. Es decir el MVP, el cual le confirma el cliente que es viable una solución basada en datos."
   ]
  },
  {
   "cell_type": "markdown",
   "metadata": {},
   "source": [
    "<img src=\"images/data_thinking_prototipado.png\" alt=\"Drawing\" style=\"width:900px;\"/>"
   ]
  },
  {
   "cell_type": "markdown",
   "metadata": {},
   "source": [
    "Como metodología nativa de datos se utiliza CRISP-DM "
   ]
  },
  {
   "cell_type": "markdown",
   "metadata": {},
   "source": [
    "\n",
    "<img src=\"images/crisp_dm_flow01.png\" alt=\"Drawing\" style=\"width:900px;\"/>\n"
   ]
  },
  {
   "cell_type": "markdown",
   "metadata": {},
   "source": [
    "### WorkFlow\n",
    "\n",
    "El siguiente flujo es a un alto nivel, y describe el proceso para generar el prototipo de la solución."
   ]
  },
  {
   "cell_type": "markdown",
   "metadata": {},
   "source": [
    "<img src=\"images/work_flow.png\" alt=\"Drawing\" style=\"width:900px;\"/>\n"
   ]
  },
  {
   "cell_type": "markdown",
   "metadata": {},
   "source": [
    "### Canvas \n",
    "NA\n"
   ]
  },
  {
   "cell_type": "markdown",
   "metadata": {},
   "source": [
    "### Check list de pruebas "
   ]
  },
  {
   "cell_type": "markdown",
   "metadata": {},
   "source": [
    "\n",
    "NA\n",
    "\n",
    "---------------------------------------------------------------\n",
    "- Sesgo\n",
    "- Varianza\n",
    "- Desvalanceo\n",
    "- Pruebas de éticas\n",
    "- Reproductivilidad\n"
   ]
  },
  {
   "cell_type": "code",
   "execution_count": null,
   "metadata": {},
   "outputs": [],
   "source": []
  }
 ],
 "metadata": {
  "kernelspec": {
   "display_name": "Python 3",
   "language": "python",
   "name": "python3"
  },
  "language_info": {
   "codemirror_mode": {
    "name": "ipython",
    "version": 3
   },
   "file_extension": ".py",
   "mimetype": "text/x-python",
   "name": "python",
   "nbconvert_exporter": "python",
   "pygments_lexer": "ipython3",
   "version": "3.7.4"
  }
 },
 "nbformat": 4,
 "nbformat_minor": 2
}
