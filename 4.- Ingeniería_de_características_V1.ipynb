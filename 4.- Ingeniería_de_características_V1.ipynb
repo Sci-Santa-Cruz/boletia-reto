{
 "cells": [
  {
   "cell_type": "markdown",
   "metadata": {},
   "source": [
    "<div class=\"jumbotron\">\n",
    "  <h1><i class=\"fa fa-bar-chart\" aria-hidden=\"true\"></i> Ingeniería de características & funciones</h1>\n",
    "  <p></p>\n",
    "</div>"
   ]
  },
  {
   "cell_type": "code",
   "execution_count": 105,
   "metadata": {},
   "outputs": [],
   "source": [
    "from pickle import load, dump\n",
    "#%matplotlib auto\n",
    "from seaborn import pairplot\n",
    "import matplotlib.pyplot as plt\n",
    "#from seaborn import set\n",
    "from seaborn import heatmap\n",
    "from pandas import Categorical\n",
    "from numpy import mean,log2,std\n",
    "import seaborn as sns\n",
    "import matplotlib\n",
    "import numpy as np\n",
    "from sklearn.preprocessing import PowerTransformer, QuantileTransformer\n",
    "#set(style=\"ticks\")"
   ]
  },
  {
   "cell_type": "code",
   "execution_count": 150,
   "metadata": {},
   "outputs": [],
   "source": [
    "#Variables categóricas y target\n",
    "cat_col = [\n",
    " 'RainToday',\n",
    " 'WindDir3pm',\n",
    " 'WindDir9am',\n",
    " 'Location',\n",
    " 'WindGustDir']\n",
    "label = 'RainTomorrow' "
   ]
  },
  {
   "cell_type": "markdown",
   "metadata": {},
   "source": [
    "### Cargar datos "
   ]
  },
  {
   "cell_type": "code",
   "execution_count": 107,
   "metadata": {},
   "outputs": [],
   "source": [
    "# Load data (deserialize)\n",
    "with open('Data/data_processing.pickle', 'rb') as handle:\n",
    "    df = load(handle)"
   ]
  },
  {
   "cell_type": "code",
   "execution_count": 108,
   "metadata": {},
   "outputs": [
    {
     "data": {
      "text/html": [
       "<div>\n",
       "<style scoped>\n",
       "    .dataframe tbody tr th:only-of-type {\n",
       "        vertical-align: middle;\n",
       "    }\n",
       "\n",
       "    .dataframe tbody tr th {\n",
       "        vertical-align: top;\n",
       "    }\n",
       "\n",
       "    .dataframe thead th {\n",
       "        text-align: right;\n",
       "    }\n",
       "</style>\n",
       "<table border=\"1\" class=\"dataframe\">\n",
       "  <thead>\n",
       "    <tr style=\"text-align: right;\">\n",
       "      <th></th>\n",
       "      <th>Date</th>\n",
       "      <th>Location</th>\n",
       "      <th>MinTemp</th>\n",
       "      <th>MaxTemp</th>\n",
       "      <th>Rainfall</th>\n",
       "      <th>Evaporation</th>\n",
       "      <th>Sunshine</th>\n",
       "      <th>WindGustDir</th>\n",
       "      <th>WindGustSpeed</th>\n",
       "      <th>WindDir9am</th>\n",
       "      <th>...</th>\n",
       "      <th>Humidity9am</th>\n",
       "      <th>Humidity3pm</th>\n",
       "      <th>Pressure9am</th>\n",
       "      <th>Pressure3pm</th>\n",
       "      <th>Cloud9am</th>\n",
       "      <th>Cloud3pm</th>\n",
       "      <th>Temp9am</th>\n",
       "      <th>Temp3pm</th>\n",
       "      <th>RainToday</th>\n",
       "      <th>RainTomorrow</th>\n",
       "    </tr>\n",
       "  </thead>\n",
       "  <tbody>\n",
       "    <tr>\n",
       "      <td>6049</td>\n",
       "      <td>2009-01-01</td>\n",
       "      <td>4</td>\n",
       "      <td>17.9</td>\n",
       "      <td>35.2</td>\n",
       "      <td>0.0</td>\n",
       "      <td>12.0</td>\n",
       "      <td>12.3</td>\n",
       "      <td>11</td>\n",
       "      <td>48.0</td>\n",
       "      <td>1</td>\n",
       "      <td>...</td>\n",
       "      <td>20.0</td>\n",
       "      <td>13.0</td>\n",
       "      <td>1006.3</td>\n",
       "      <td>1004.4</td>\n",
       "      <td>2.0</td>\n",
       "      <td>5.0</td>\n",
       "      <td>26.6</td>\n",
       "      <td>33.4</td>\n",
       "      <td>0</td>\n",
       "      <td>0</td>\n",
       "    </tr>\n",
       "    <tr>\n",
       "      <td>6050</td>\n",
       "      <td>2009-01-02</td>\n",
       "      <td>4</td>\n",
       "      <td>18.4</td>\n",
       "      <td>28.9</td>\n",
       "      <td>0.0</td>\n",
       "      <td>14.8</td>\n",
       "      <td>13.0</td>\n",
       "      <td>8</td>\n",
       "      <td>37.0</td>\n",
       "      <td>10</td>\n",
       "      <td>...</td>\n",
       "      <td>30.0</td>\n",
       "      <td>8.0</td>\n",
       "      <td>1012.9</td>\n",
       "      <td>1012.1</td>\n",
       "      <td>1.0</td>\n",
       "      <td>1.0</td>\n",
       "      <td>20.3</td>\n",
       "      <td>27.0</td>\n",
       "      <td>0</td>\n",
       "      <td>0</td>\n",
       "    </tr>\n",
       "    <tr>\n",
       "      <td>6052</td>\n",
       "      <td>2009-01-04</td>\n",
       "      <td>4</td>\n",
       "      <td>19.4</td>\n",
       "      <td>37.6</td>\n",
       "      <td>0.0</td>\n",
       "      <td>10.8</td>\n",
       "      <td>10.6</td>\n",
       "      <td>5</td>\n",
       "      <td>46.0</td>\n",
       "      <td>5</td>\n",
       "      <td>...</td>\n",
       "      <td>42.0</td>\n",
       "      <td>22.0</td>\n",
       "      <td>1012.3</td>\n",
       "      <td>1009.2</td>\n",
       "      <td>1.0</td>\n",
       "      <td>6.0</td>\n",
       "      <td>28.7</td>\n",
       "      <td>34.9</td>\n",
       "      <td>0</td>\n",
       "      <td>0</td>\n",
       "    </tr>\n",
       "    <tr>\n",
       "      <td>6053</td>\n",
       "      <td>2009-01-05</td>\n",
       "      <td>4</td>\n",
       "      <td>21.9</td>\n",
       "      <td>38.4</td>\n",
       "      <td>0.0</td>\n",
       "      <td>11.4</td>\n",
       "      <td>12.2</td>\n",
       "      <td>14</td>\n",
       "      <td>31.0</td>\n",
       "      <td>14</td>\n",
       "      <td>...</td>\n",
       "      <td>37.0</td>\n",
       "      <td>22.0</td>\n",
       "      <td>1012.7</td>\n",
       "      <td>1009.1</td>\n",
       "      <td>1.0</td>\n",
       "      <td>5.0</td>\n",
       "      <td>29.1</td>\n",
       "      <td>35.6</td>\n",
       "      <td>0</td>\n",
       "      <td>0</td>\n",
       "    </tr>\n",
       "    <tr>\n",
       "      <td>6054</td>\n",
       "      <td>2009-01-06</td>\n",
       "      <td>4</td>\n",
       "      <td>24.2</td>\n",
       "      <td>41.0</td>\n",
       "      <td>0.0</td>\n",
       "      <td>11.2</td>\n",
       "      <td>8.4</td>\n",
       "      <td>14</td>\n",
       "      <td>35.0</td>\n",
       "      <td>7</td>\n",
       "      <td>...</td>\n",
       "      <td>19.0</td>\n",
       "      <td>15.0</td>\n",
       "      <td>1010.7</td>\n",
       "      <td>1007.4</td>\n",
       "      <td>1.0</td>\n",
       "      <td>6.0</td>\n",
       "      <td>33.6</td>\n",
       "      <td>37.6</td>\n",
       "      <td>0</td>\n",
       "      <td>0</td>\n",
       "    </tr>\n",
       "  </tbody>\n",
       "</table>\n",
       "<p>5 rows × 23 columns</p>\n",
       "</div>"
      ],
      "text/plain": [
       "           Date  Location  MinTemp  MaxTemp  Rainfall  Evaporation  Sunshine  \\\n",
       "6049 2009-01-01         4     17.9     35.2       0.0         12.0      12.3   \n",
       "6050 2009-01-02         4     18.4     28.9       0.0         14.8      13.0   \n",
       "6052 2009-01-04         4     19.4     37.6       0.0         10.8      10.6   \n",
       "6053 2009-01-05         4     21.9     38.4       0.0         11.4      12.2   \n",
       "6054 2009-01-06         4     24.2     41.0       0.0         11.2       8.4   \n",
       "\n",
       "      WindGustDir  WindGustSpeed  WindDir9am  ...  Humidity9am  Humidity3pm  \\\n",
       "6049           11           48.0           1  ...         20.0         13.0   \n",
       "6050            8           37.0          10  ...         30.0          8.0   \n",
       "6052            5           46.0           5  ...         42.0         22.0   \n",
       "6053           14           31.0          14  ...         37.0         22.0   \n",
       "6054           14           35.0           7  ...         19.0         15.0   \n",
       "\n",
       "      Pressure9am  Pressure3pm  Cloud9am  Cloud3pm  Temp9am  Temp3pm  \\\n",
       "6049       1006.3       1004.4       2.0       5.0     26.6     33.4   \n",
       "6050       1012.9       1012.1       1.0       1.0     20.3     27.0   \n",
       "6052       1012.3       1009.2       1.0       6.0     28.7     34.9   \n",
       "6053       1012.7       1009.1       1.0       5.0     29.1     35.6   \n",
       "6054       1010.7       1007.4       1.0       6.0     33.6     37.6   \n",
       "\n",
       "      RainToday  RainTomorrow  \n",
       "6049          0             0  \n",
       "6050          0             0  \n",
       "6052          0             0  \n",
       "6053          0             0  \n",
       "6054          0             0  \n",
       "\n",
       "[5 rows x 23 columns]"
      ]
     },
     "execution_count": 108,
     "metadata": {},
     "output_type": "execute_result"
    }
   ],
   "source": [
    "df.head()"
   ]
  },
  {
   "cell_type": "code",
   "execution_count": 109,
   "metadata": {},
   "outputs": [
    {
     "data": {
      "text/plain": [
       "Date             datetime64[ns]\n",
       "Location                   int8\n",
       "MinTemp                 float64\n",
       "MaxTemp                 float64\n",
       "Rainfall                float64\n",
       "Evaporation             float64\n",
       "Sunshine                float64\n",
       "WindGustDir                int8\n",
       "WindGustSpeed           float64\n",
       "WindDir9am                 int8\n",
       "WindDir3pm                 int8\n",
       "WindSpeed9am            float64\n",
       "WindSpeed3pm            float64\n",
       "Humidity9am             float64\n",
       "Humidity3pm             float64\n",
       "Pressure9am             float64\n",
       "Pressure3pm             float64\n",
       "Cloud9am                float64\n",
       "Cloud3pm                float64\n",
       "Temp9am                 float64\n",
       "Temp3pm                 float64\n",
       "RainToday                  int8\n",
       "RainTomorrow               int8\n",
       "dtype: object"
      ]
     },
     "execution_count": 109,
     "metadata": {},
     "output_type": "execute_result"
    }
   ],
   "source": [
    "df.dtypes"
   ]
  },
  {
   "cell_type": "markdown",
   "metadata": {},
   "source": [
    "### Reset indices del dataframe"
   ]
  },
  {
   "cell_type": "code",
   "execution_count": 110,
   "metadata": {},
   "outputs": [],
   "source": [
    "df.reset_index(drop=True, inplace=True)"
   ]
  },
  {
   "cell_type": "markdown",
   "metadata": {},
   "source": [
    "### Variable Date\n",
    "\n",
    "\n",
    "Las especificaciones técnicas índican que los datos contiene un registro por día en diferentes locaciones de Australía, análizaremos estas premisas"
   ]
  },
  {
   "cell_type": "markdown",
   "metadata": {},
   "source": [
    "#### Fecha máxima en los datos"
   ]
  },
  {
   "cell_type": "code",
   "execution_count": 111,
   "metadata": {},
   "outputs": [
    {
     "data": {
      "text/plain": [
       "Timestamp('2017-06-25 00:00:00')"
      ]
     },
     "execution_count": 111,
     "metadata": {},
     "output_type": "execute_result"
    }
   ],
   "source": [
    "max(df['Date'])"
   ]
  },
  {
   "cell_type": "markdown",
   "metadata": {},
   "source": [
    "#### Fecha mínima en los datos"
   ]
  },
  {
   "cell_type": "code",
   "execution_count": 112,
   "metadata": {},
   "outputs": [
    {
     "data": {
      "text/plain": [
       "Timestamp('2007-11-01 00:00:00')"
      ]
     },
     "execution_count": 112,
     "metadata": {},
     "output_type": "execute_result"
    }
   ],
   "source": [
    "min(df['Date'])"
   ]
  },
  {
   "cell_type": "markdown",
   "metadata": {},
   "source": [
    "Contar valores únicos de la variable `Date`"
   ]
  },
  {
   "cell_type": "code",
   "execution_count": 113,
   "metadata": {},
   "outputs": [
    {
     "data": {
      "text/plain": [
       "2010-06-09    25\n",
       "2010-11-30    25\n",
       "2009-01-25    25\n",
       "2010-04-16    25\n",
       "2009-04-07    25\n",
       "              ..\n",
       "2008-01-03     1\n",
       "2008-06-18     1\n",
       "2008-03-08     1\n",
       "2007-11-27     1\n",
       "2008-04-10     1\n",
       "Name: Date, Length: 3416, dtype: int64"
      ]
     },
     "execution_count": 113,
     "metadata": {},
     "output_type": "execute_result"
    }
   ],
   "source": [
    "df['Date'].value_counts()"
   ]
  },
  {
   "cell_type": "markdown",
   "metadata": {},
   "source": [
    "Existe más de un registro para algunas fechas"
   ]
  },
  {
   "cell_type": "markdown",
   "metadata": {},
   "source": [
    "Ahora vemos como se ven los datos al visualizar la fecha junto a la ubicación y la variable de clase"
   ]
  },
  {
   "cell_type": "code",
   "execution_count": 114,
   "metadata": {},
   "outputs": [
    {
     "data": {
      "text/html": [
       "<div>\n",
       "<style scoped>\n",
       "    .dataframe tbody tr th:only-of-type {\n",
       "        vertical-align: middle;\n",
       "    }\n",
       "\n",
       "    .dataframe tbody tr th {\n",
       "        vertical-align: top;\n",
       "    }\n",
       "\n",
       "    .dataframe thead th {\n",
       "        text-align: right;\n",
       "    }\n",
       "</style>\n",
       "<table border=\"1\" class=\"dataframe\">\n",
       "  <thead>\n",
       "    <tr style=\"text-align: right;\">\n",
       "      <th></th>\n",
       "      <th>Date</th>\n",
       "      <th>RainTomorrow</th>\n",
       "      <th>Location</th>\n",
       "    </tr>\n",
       "  </thead>\n",
       "  <tbody>\n",
       "    <tr>\n",
       "      <td>51134</td>\n",
       "      <td>2017-06-24</td>\n",
       "      <td>0</td>\n",
       "      <td>7</td>\n",
       "    </tr>\n",
       "    <tr>\n",
       "      <td>20148</td>\n",
       "      <td>2017-06-24</td>\n",
       "      <td>0</td>\n",
       "      <td>9</td>\n",
       "    </tr>\n",
       "    <tr>\n",
       "      <td>29233</td>\n",
       "      <td>2017-06-24</td>\n",
       "      <td>0</td>\n",
       "      <td>23</td>\n",
       "    </tr>\n",
       "    <tr>\n",
       "      <td>10849</td>\n",
       "      <td>2017-06-24</td>\n",
       "      <td>0</td>\n",
       "      <td>20</td>\n",
       "    </tr>\n",
       "    <tr>\n",
       "      <td>7979</td>\n",
       "      <td>2017-06-24</td>\n",
       "      <td>0</td>\n",
       "      <td>19</td>\n",
       "    </tr>\n",
       "    <tr>\n",
       "      <td>32186</td>\n",
       "      <td>2017-06-24</td>\n",
       "      <td>0</td>\n",
       "      <td>1</td>\n",
       "    </tr>\n",
       "    <tr>\n",
       "      <td>46169</td>\n",
       "      <td>2017-06-24</td>\n",
       "      <td>0</td>\n",
       "      <td>16</td>\n",
       "    </tr>\n",
       "    <tr>\n",
       "      <td>22046</td>\n",
       "      <td>2017-06-24</td>\n",
       "      <td>0</td>\n",
       "      <td>8</td>\n",
       "    </tr>\n",
       "    <tr>\n",
       "      <td>49194</td>\n",
       "      <td>2017-06-24</td>\n",
       "      <td>0</td>\n",
       "      <td>15</td>\n",
       "    </tr>\n",
       "    <tr>\n",
       "      <td>56419</td>\n",
       "      <td>2017-06-24</td>\n",
       "      <td>0</td>\n",
       "      <td>6</td>\n",
       "    </tr>\n",
       "    <tr>\n",
       "      <td>10850</td>\n",
       "      <td>2017-06-25</td>\n",
       "      <td>0</td>\n",
       "      <td>20</td>\n",
       "    </tr>\n",
       "    <tr>\n",
       "      <td>20149</td>\n",
       "      <td>2017-06-25</td>\n",
       "      <td>0</td>\n",
       "      <td>9</td>\n",
       "    </tr>\n",
       "    <tr>\n",
       "      <td>7980</td>\n",
       "      <td>2017-06-25</td>\n",
       "      <td>0</td>\n",
       "      <td>19</td>\n",
       "    </tr>\n",
       "    <tr>\n",
       "      <td>32187</td>\n",
       "      <td>2017-06-25</td>\n",
       "      <td>0</td>\n",
       "      <td>1</td>\n",
       "    </tr>\n",
       "    <tr>\n",
       "      <td>46170</td>\n",
       "      <td>2017-06-25</td>\n",
       "      <td>0</td>\n",
       "      <td>16</td>\n",
       "    </tr>\n",
       "    <tr>\n",
       "      <td>22047</td>\n",
       "      <td>2017-06-25</td>\n",
       "      <td>1</td>\n",
       "      <td>8</td>\n",
       "    </tr>\n",
       "    <tr>\n",
       "      <td>49195</td>\n",
       "      <td>2017-06-25</td>\n",
       "      <td>0</td>\n",
       "      <td>15</td>\n",
       "    </tr>\n",
       "    <tr>\n",
       "      <td>29234</td>\n",
       "      <td>2017-06-25</td>\n",
       "      <td>0</td>\n",
       "      <td>23</td>\n",
       "    </tr>\n",
       "  </tbody>\n",
       "</table>\n",
       "</div>"
      ],
      "text/plain": [
       "            Date  RainTomorrow  Location\n",
       "51134 2017-06-24             0         7\n",
       "20148 2017-06-24             0         9\n",
       "29233 2017-06-24             0        23\n",
       "10849 2017-06-24             0        20\n",
       "7979  2017-06-24             0        19\n",
       "32186 2017-06-24             0         1\n",
       "46169 2017-06-24             0        16\n",
       "22046 2017-06-24             0         8\n",
       "49194 2017-06-24             0        15\n",
       "56419 2017-06-24             0         6\n",
       "10850 2017-06-25             0        20\n",
       "20149 2017-06-25             0         9\n",
       "7980  2017-06-25             0        19\n",
       "32187 2017-06-25             0         1\n",
       "46170 2017-06-25             0        16\n",
       "22047 2017-06-25             1         8\n",
       "49195 2017-06-25             0        15\n",
       "29234 2017-06-25             0        23"
      ]
     },
     "execution_count": 114,
     "metadata": {},
     "output_type": "execute_result"
    }
   ],
   "source": [
    "df.sort_values(by=['Date'])[['Date','RainTomorrow','Location']].tail(18)"
   ]
  },
  {
   "cell_type": "markdown",
   "metadata": {},
   "source": [
    "Las fechas estan duplicadas debido a que existen registro por cada ubicación geoagráfica"
   ]
  },
  {
   "cell_type": "code",
   "execution_count": 115,
   "metadata": {},
   "outputs": [
    {
     "data": {
      "text/html": [
       "<div>\n",
       "<style scoped>\n",
       "    .dataframe tbody tr th:only-of-type {\n",
       "        vertical-align: middle;\n",
       "    }\n",
       "\n",
       "    .dataframe tbody tr th {\n",
       "        vertical-align: top;\n",
       "    }\n",
       "\n",
       "    .dataframe thead th {\n",
       "        text-align: right;\n",
       "    }\n",
       "</style>\n",
       "<table border=\"1\" class=\"dataframe\">\n",
       "  <thead>\n",
       "    <tr style=\"text-align: right;\">\n",
       "      <th></th>\n",
       "      <th>Date</th>\n",
       "      <th>Location</th>\n",
       "      <th>MinTemp</th>\n",
       "      <th>MaxTemp</th>\n",
       "      <th>Rainfall</th>\n",
       "      <th>Evaporation</th>\n",
       "      <th>Sunshine</th>\n",
       "      <th>WindGustDir</th>\n",
       "      <th>WindGustSpeed</th>\n",
       "      <th>WindDir9am</th>\n",
       "      <th>...</th>\n",
       "      <th>Humidity9am</th>\n",
       "      <th>Humidity3pm</th>\n",
       "      <th>Pressure9am</th>\n",
       "      <th>Pressure3pm</th>\n",
       "      <th>Cloud9am</th>\n",
       "      <th>Cloud3pm</th>\n",
       "      <th>Temp9am</th>\n",
       "      <th>Temp3pm</th>\n",
       "      <th>RainToday</th>\n",
       "      <th>RainTomorrow</th>\n",
       "    </tr>\n",
       "  </thead>\n",
       "  <tbody>\n",
       "    <tr>\n",
       "      <td>7980</td>\n",
       "      <td>2017-06-25</td>\n",
       "      <td>19</td>\n",
       "      <td>7.6</td>\n",
       "      <td>19.3</td>\n",
       "      <td>0.0</td>\n",
       "      <td>3.4</td>\n",
       "      <td>9.4</td>\n",
       "      <td>13</td>\n",
       "      <td>35.0</td>\n",
       "      <td>13</td>\n",
       "      <td>...</td>\n",
       "      <td>73.0</td>\n",
       "      <td>32.0</td>\n",
       "      <td>1018.6</td>\n",
       "      <td>1015.4</td>\n",
       "      <td>1.0</td>\n",
       "      <td>1.0</td>\n",
       "      <td>9.4</td>\n",
       "      <td>18.8</td>\n",
       "      <td>0</td>\n",
       "      <td>0</td>\n",
       "    </tr>\n",
       "    <tr>\n",
       "      <td>10850</td>\n",
       "      <td>2017-06-25</td>\n",
       "      <td>20</td>\n",
       "      <td>6.8</td>\n",
       "      <td>19.5</td>\n",
       "      <td>0.0</td>\n",
       "      <td>3.4</td>\n",
       "      <td>9.4</td>\n",
       "      <td>15</td>\n",
       "      <td>46.0</td>\n",
       "      <td>7</td>\n",
       "      <td>...</td>\n",
       "      <td>67.0</td>\n",
       "      <td>42.0</td>\n",
       "      <td>1018.4</td>\n",
       "      <td>1015.2</td>\n",
       "      <td>1.0</td>\n",
       "      <td>1.0</td>\n",
       "      <td>11.9</td>\n",
       "      <td>17.9</td>\n",
       "      <td>0</td>\n",
       "      <td>0</td>\n",
       "    </tr>\n",
       "    <tr>\n",
       "      <td>20149</td>\n",
       "      <td>2017-06-25</td>\n",
       "      <td>9</td>\n",
       "      <td>5.5</td>\n",
       "      <td>13.9</td>\n",
       "      <td>0.0</td>\n",
       "      <td>2.8</td>\n",
       "      <td>3.8</td>\n",
       "      <td>6</td>\n",
       "      <td>44.0</td>\n",
       "      <td>3</td>\n",
       "      <td>...</td>\n",
       "      <td>72.0</td>\n",
       "      <td>58.0</td>\n",
       "      <td>1017.8</td>\n",
       "      <td>1015.5</td>\n",
       "      <td>7.0</td>\n",
       "      <td>7.0</td>\n",
       "      <td>8.1</td>\n",
       "      <td>12.2</td>\n",
       "      <td>0</td>\n",
       "      <td>0</td>\n",
       "    </tr>\n",
       "    <tr>\n",
       "      <td>22047</td>\n",
       "      <td>2017-06-25</td>\n",
       "      <td>8</td>\n",
       "      <td>8.6</td>\n",
       "      <td>14.3</td>\n",
       "      <td>0.0</td>\n",
       "      <td>2.8</td>\n",
       "      <td>3.8</td>\n",
       "      <td>7</td>\n",
       "      <td>35.0</td>\n",
       "      <td>3</td>\n",
       "      <td>...</td>\n",
       "      <td>67.0</td>\n",
       "      <td>56.0</td>\n",
       "      <td>1017.4</td>\n",
       "      <td>1015.0</td>\n",
       "      <td>7.0</td>\n",
       "      <td>7.0</td>\n",
       "      <td>9.3</td>\n",
       "      <td>13.4</td>\n",
       "      <td>0</td>\n",
       "      <td>1</td>\n",
       "    </tr>\n",
       "    <tr>\n",
       "      <td>29234</td>\n",
       "      <td>2017-06-25</td>\n",
       "      <td>23</td>\n",
       "      <td>7.9</td>\n",
       "      <td>13.0</td>\n",
       "      <td>0.0</td>\n",
       "      <td>2.8</td>\n",
       "      <td>3.8</td>\n",
       "      <td>6</td>\n",
       "      <td>39.0</td>\n",
       "      <td>3</td>\n",
       "      <td>...</td>\n",
       "      <td>68.0</td>\n",
       "      <td>69.0</td>\n",
       "      <td>1017.6</td>\n",
       "      <td>1015.3</td>\n",
       "      <td>7.0</td>\n",
       "      <td>7.0</td>\n",
       "      <td>9.0</td>\n",
       "      <td>11.7</td>\n",
       "      <td>0</td>\n",
       "      <td>0</td>\n",
       "    </tr>\n",
       "    <tr>\n",
       "      <td>32187</td>\n",
       "      <td>2017-06-25</td>\n",
       "      <td>1</td>\n",
       "      <td>11.0</td>\n",
       "      <td>24.2</td>\n",
       "      <td>0.0</td>\n",
       "      <td>2.2</td>\n",
       "      <td>9.8</td>\n",
       "      <td>1</td>\n",
       "      <td>20.0</td>\n",
       "      <td>11</td>\n",
       "      <td>...</td>\n",
       "      <td>68.0</td>\n",
       "      <td>53.0</td>\n",
       "      <td>1020.5</td>\n",
       "      <td>1017.3</td>\n",
       "      <td>6.0</td>\n",
       "      <td>3.0</td>\n",
       "      <td>15.9</td>\n",
       "      <td>22.6</td>\n",
       "      <td>0</td>\n",
       "      <td>0</td>\n",
       "    </tr>\n",
       "    <tr>\n",
       "      <td>46170</td>\n",
       "      <td>2017-06-25</td>\n",
       "      <td>16</td>\n",
       "      <td>4.9</td>\n",
       "      <td>16.8</td>\n",
       "      <td>0.0</td>\n",
       "      <td>1.6</td>\n",
       "      <td>7.9</td>\n",
       "      <td>0</td>\n",
       "      <td>39.0</td>\n",
       "      <td>0</td>\n",
       "      <td>...</td>\n",
       "      <td>69.0</td>\n",
       "      <td>44.0</td>\n",
       "      <td>1028.5</td>\n",
       "      <td>1026.0</td>\n",
       "      <td>1.0</td>\n",
       "      <td>3.0</td>\n",
       "      <td>12.0</td>\n",
       "      <td>16.2</td>\n",
       "      <td>0</td>\n",
       "      <td>0</td>\n",
       "    </tr>\n",
       "    <tr>\n",
       "      <td>49195</td>\n",
       "      <td>2017-06-25</td>\n",
       "      <td>15</td>\n",
       "      <td>6.3</td>\n",
       "      <td>17.0</td>\n",
       "      <td>0.0</td>\n",
       "      <td>1.6</td>\n",
       "      <td>7.9</td>\n",
       "      <td>0</td>\n",
       "      <td>26.0</td>\n",
       "      <td>9</td>\n",
       "      <td>...</td>\n",
       "      <td>75.0</td>\n",
       "      <td>49.0</td>\n",
       "      <td>1028.6</td>\n",
       "      <td>1026.0</td>\n",
       "      <td>1.0</td>\n",
       "      <td>3.0</td>\n",
       "      <td>11.5</td>\n",
       "      <td>15.6</td>\n",
       "      <td>0</td>\n",
       "      <td>0</td>\n",
       "    </tr>\n",
       "  </tbody>\n",
       "</table>\n",
       "<p>8 rows × 23 columns</p>\n",
       "</div>"
      ],
      "text/plain": [
       "            Date  Location  MinTemp  MaxTemp  Rainfall  Evaporation  Sunshine  \\\n",
       "7980  2017-06-25        19      7.6     19.3       0.0          3.4       9.4   \n",
       "10850 2017-06-25        20      6.8     19.5       0.0          3.4       9.4   \n",
       "20149 2017-06-25         9      5.5     13.9       0.0          2.8       3.8   \n",
       "22047 2017-06-25         8      8.6     14.3       0.0          2.8       3.8   \n",
       "29234 2017-06-25        23      7.9     13.0       0.0          2.8       3.8   \n",
       "32187 2017-06-25         1     11.0     24.2       0.0          2.2       9.8   \n",
       "46170 2017-06-25        16      4.9     16.8       0.0          1.6       7.9   \n",
       "49195 2017-06-25        15      6.3     17.0       0.0          1.6       7.9   \n",
       "\n",
       "       WindGustDir  WindGustSpeed  WindDir9am  ...  Humidity9am  Humidity3pm  \\\n",
       "7980            13           35.0          13  ...         73.0         32.0   \n",
       "10850           15           46.0           7  ...         67.0         42.0   \n",
       "20149            6           44.0           3  ...         72.0         58.0   \n",
       "22047            7           35.0           3  ...         67.0         56.0   \n",
       "29234            6           39.0           3  ...         68.0         69.0   \n",
       "32187            1           20.0          11  ...         68.0         53.0   \n",
       "46170            0           39.0           0  ...         69.0         44.0   \n",
       "49195            0           26.0           9  ...         75.0         49.0   \n",
       "\n",
       "       Pressure9am  Pressure3pm  Cloud9am  Cloud3pm  Temp9am  Temp3pm  \\\n",
       "7980        1018.6       1015.4       1.0       1.0      9.4     18.8   \n",
       "10850       1018.4       1015.2       1.0       1.0     11.9     17.9   \n",
       "20149       1017.8       1015.5       7.0       7.0      8.1     12.2   \n",
       "22047       1017.4       1015.0       7.0       7.0      9.3     13.4   \n",
       "29234       1017.6       1015.3       7.0       7.0      9.0     11.7   \n",
       "32187       1020.5       1017.3       6.0       3.0     15.9     22.6   \n",
       "46170       1028.5       1026.0       1.0       3.0     12.0     16.2   \n",
       "49195       1028.6       1026.0       1.0       3.0     11.5     15.6   \n",
       "\n",
       "       RainToday  RainTomorrow  \n",
       "7980           0             0  \n",
       "10850          0             0  \n",
       "20149          0             0  \n",
       "22047          0             1  \n",
       "29234          0             0  \n",
       "32187          0             0  \n",
       "46170          0             0  \n",
       "49195          0             0  \n",
       "\n",
       "[8 rows x 23 columns]"
      ]
     },
     "execution_count": 115,
     "metadata": {},
     "output_type": "execute_result"
    }
   ],
   "source": [
    "df[df.Date == '2017-06-25']"
   ]
  },
  {
   "cell_type": "code",
   "execution_count": null,
   "metadata": {},
   "outputs": [],
   "source": []
  },
  {
   "cell_type": "code",
   "execution_count": 116,
   "metadata": {},
   "outputs": [],
   "source": [
    "#for i in range(10,25):\n",
    "   # print(len(df['Date'].value_counts().values[df['Date'].value_counts().values>i]))"
   ]
  },
  {
   "cell_type": "code",
   "execution_count": 117,
   "metadata": {},
   "outputs": [
    {
     "data": {
      "text/plain": [
       "(56420,)"
      ]
     },
     "execution_count": 117,
     "metadata": {},
     "output_type": "execute_result"
    }
   ],
   "source": [
    "df['Date'].shape"
   ]
  },
  {
   "cell_type": "markdown",
   "metadata": {},
   "source": [
    "- Nota importante : La transformaciones se basan en la suposición que cada ubicación tiene sesores idénticos y que no es necesario el tratamiento de datos porcada locación\n"
   ]
  },
  {
   "cell_type": "markdown",
   "metadata": {},
   "source": [
    "## Transformaciones"
   ]
  },
  {
   "cell_type": "markdown",
   "metadata": {},
   "source": [
    "### Separar variables"
   ]
  },
  {
   "cell_type": "code",
   "execution_count": 118,
   "metadata": {},
   "outputs": [],
   "source": [
    "num_col=df.columns\n",
    "num_col = set(num_col.tolist())\n",
    "num_col = list(set(num_col)- set([label,'Date']))\n",
    "num_col = list(set(num_col)- set(cat_col))\n",
    "exc = ['Rainfall','Evaporation']\n",
    "num_col = list(set(num_col)- set(exc))"
   ]
  },
  {
   "cell_type": "markdown",
   "metadata": {},
   "source": [
    "### Variables númericas "
   ]
  },
  {
   "cell_type": "markdown",
   "metadata": {},
   "source": [
    "- Extraemos las variables `Rainfall` y `Evaporation` de  `num_col`, ya que tendran un tratamiento diferente.\n",
    "- A las variables `Rainfall` y `Evaporation` se les aplicará una trasformación para  tratar el sesgado y ser normalizarlas (distribución)\n",
    "- Las variables dentro del vector  de variables `num_col` se normalizaran con `z-score`"
   ]
  },
  {
   "cell_type": "markdown",
   "metadata": {},
   "source": [
    "### Lista de columnas númericas"
   ]
  },
  {
   "cell_type": "code",
   "execution_count": 119,
   "metadata": {},
   "outputs": [
    {
     "data": {
      "text/plain": [
       "['WindGustSpeed',\n",
       " 'Sunshine',\n",
       " 'Cloud3pm',\n",
       " 'Temp3pm',\n",
       " 'Temp9am',\n",
       " 'MinTemp',\n",
       " 'Cloud9am',\n",
       " 'MaxTemp',\n",
       " 'WindSpeed9am',\n",
       " 'WindSpeed3pm',\n",
       " 'Humidity3pm',\n",
       " 'Pressure9am',\n",
       " 'Humidity9am',\n",
       " 'Pressure3pm']"
      ]
     },
     "execution_count": 119,
     "metadata": {},
     "output_type": "execute_result"
    }
   ],
   "source": [
    "\n",
    "num_col"
   ]
  },
  {
   "cell_type": "markdown",
   "metadata": {},
   "source": [
    "### Variables categóricas"
   ]
  },
  {
   "cell_type": "code",
   "execution_count": 120,
   "metadata": {},
   "outputs": [
    {
     "data": {
      "text/plain": [
       "['RainToday', 'WindDir3pm', 'WindDir9am', 'Location', 'WindGustDir']"
      ]
     },
     "execution_count": 120,
     "metadata": {},
     "output_type": "execute_result"
    }
   ],
   "source": [
    "cat_col"
   ]
  },
  {
   "cell_type": "markdown",
   "metadata": {},
   "source": [
    "### Etiqueta | Variable de clase"
   ]
  },
  {
   "cell_type": "code",
   "execution_count": 121,
   "metadata": {},
   "outputs": [
    {
     "data": {
      "text/plain": [
       "'RainTomorrow'"
      ]
     },
     "execution_count": 121,
     "metadata": {},
     "output_type": "execute_result"
    }
   ],
   "source": [
    "label"
   ]
  },
  {
   "cell_type": "markdown",
   "metadata": {},
   "source": [
    "### Variables con tratamiento especial (excluidas de las variables numéricas)"
   ]
  },
  {
   "cell_type": "code",
   "execution_count": 122,
   "metadata": {},
   "outputs": [
    {
     "data": {
      "text/plain": [
       "['Rainfall', 'Evaporation']"
      ]
     },
     "execution_count": 122,
     "metadata": {},
     "output_type": "execute_result"
    }
   ],
   "source": [
    "exc"
   ]
  },
  {
   "cell_type": "markdown",
   "metadata": {},
   "source": [
    "### Rainfall y Evaporation\n",
    "\n",
    "Obtener la grafica de bigotes y la forma de la distribución de la variable"
   ]
  },
  {
   "cell_type": "markdown",
   "metadata": {},
   "source": [
    "#### Rainfall"
   ]
  },
  {
   "cell_type": "code",
   "execution_count": 123,
   "metadata": {},
   "outputs": [
    {
     "data": {
      "text/plain": [
       "<matplotlib.axes._subplots.AxesSubplot at 0x1e4e4d4bd48>"
      ]
     },
     "execution_count": 123,
     "metadata": {},
     "output_type": "execute_result"
    },
    {
     "data": {
      "image/png": "[encoded data removed]",
      "text/plain": [
       "<Figure size 864x360 with 2 Axes>"
      ]
     },
     "metadata": {
      "needs_background": "light"
     },
     "output_type": "display_data"
    }
   ],
   "source": [
    "fig,ax = plt.subplots(nrows = 1, ncols = 2)\n",
    "df.Rainfall.plot(kind = 'box',figsize = [12.0,5.0],title=\"Rainfall\",ax = ax[0])\n",
    "df.Rainfall.plot(kind = 'density',figsize = [12.0,5.0],title=\"Rainfall\",ax = ax[1])"
   ]
  },
  {
   "cell_type": "markdown",
   "metadata": {},
   "source": [
    "#### Evaporation"
   ]
  },
  {
   "cell_type": "code",
   "execution_count": 124,
   "metadata": {},
   "outputs": [
    {
     "data": {
      "text/plain": [
       "<matplotlib.axes._subplots.AxesSubplot at 0x1e4e380c808>"
      ]
     },
     "execution_count": 124,
     "metadata": {},
     "output_type": "execute_result"
    },
    {
     "data": {
      "image/png": "[encoded data removed]",
      "text/plain": [
       "<Figure size 864x360 with 2 Axes>"
      ]
     },
     "metadata": {
      "needs_background": "light"
     },
     "output_type": "display_data"
    }
   ],
   "source": [
    "fig,ax = plt.subplots(nrows = 1, ncols = 2)\n",
    "df.Evaporation.plot(kind = 'box',figsize = [12.0,5.0],title=\"Evaporation\",ax = ax[0])\n",
    "df.Evaporation.plot(kind = 'density',figsize = [12.0,5.0],title=\"Evaporation\",ax = ax[1])"
   ]
  },
  {
   "cell_type": "markdown",
   "metadata": {},
   "source": [
    "La mayoría de los modelos estadísticos no funcionan cuando los datos están sesgados y la razón detrás de esto es que los datos en los extremos (región de cola de las distribuciones) son datos sesgados y  básicamente funcionan como valores atípicos."
   ]
  },
  {
   "cell_type": "markdown",
   "metadata": {},
   "source": [
    "Aplicaremos la transformación logarítmica `log2(square(normalized(x))` a las variables `Rainfall` y `Evaporation`"
   ]
  },
  {
   "cell_type": "code",
   "execution_count": 125,
   "metadata": {},
   "outputs": [],
   "source": [
    "df['Rainfall'] = (((log2(((df.Rainfall - mean(df.Rainfall))/std(df.Rainfall))**2))))"
   ]
  },
  {
   "cell_type": "code",
   "execution_count": 126,
   "metadata": {},
   "outputs": [
    {
     "data": {
      "text/plain": [
       "Text(0.5, 0, 'Rainfall')"
      ]
     },
     "execution_count": 126,
     "metadata": {},
     "output_type": "execute_result"
    },
    {
     "data": {
      "image/png": "[encoded data removed]",
      "text/plain": [
       "<Figure size 1440x720 with 1 Axes>"
      ]
     },
     "metadata": {
      "needs_background": "light"
     },
     "output_type": "display_data"
    }
   ],
   "source": [
    "df.Rainfall.plot(kind='density',title=\"Volume\").set_xlabel(\"Rainfall\")"
   ]
  },
  {
   "cell_type": "code",
   "execution_count": 127,
   "metadata": {},
   "outputs": [
    {
     "data": {
      "text/plain": [
       "Text(0.5, 0, 'Valor')"
      ]
     },
     "execution_count": 127,
     "metadata": {},
     "output_type": "execute_result"
    },
    {
     "data": {
      "image/png": "[encoded data removed]",
      "text/plain": [
       "<Figure size 1440x720 with 1 Axes>"
      ]
     },
     "metadata": {
      "needs_background": "light"
     },
     "output_type": "display_data"
    }
   ],
   "source": [
    "df['Evaporation'] = (((log2(((df.Evaporation - mean(df.Evaporation))/std(df.Evaporation))**2))))\n",
    "df.Evaporation.plot(kind='density',title=\"Evaporation\").set_xlabel(\"Valor\")"
   ]
  },
  {
   "cell_type": "markdown",
   "metadata": {},
   "source": [
    "La transformación logarítmica no arroga buenos resultados, probemos con 2 transformaciones más complejas : `PowerTransformer` y `QuantileTransformer`"
   ]
  },
  {
   "cell_type": "code",
   "execution_count": 152,
   "metadata": {},
   "outputs": [],
   "source": [
    "def test_transformers(columns):\n",
    "    \"\"\"\n",
    "    Esta función aplicar la trasformación PowerTransformer y QuantileTransformer a una matriz de datos \n",
    "    y muestra los resultados en forma gráfica\n",
    "    \n",
    "    input \n",
    "            columns : lista con el nombre de las columnas a las que se le aplicarán las transformaciones a dataframe 'df'\n",
    "            \n",
    "    output  \n",
    "        Visualizació de los resultados\n",
    "    \n",
    "    \"\"\"\n",
    "    \n",
    "    pt = PowerTransformer()\n",
    "    qt = QuantileTransformer(n_quantiles=5000, output_distribution='normal')\n",
    "    fig = plt.figure(figsize=(20,30))\n",
    "    j = 1\n",
    "    for i in columns:\n",
    "        array = np.array(df[i]).reshape(-1, 1)\n",
    "        y = pt.fit_transform(array)\n",
    "        x = qt.fit_transform(array)\n",
    "        plt.subplot(3,3,j)\n",
    "        sns.histplot(array, bins = 50, kde = True)\n",
    "        plt.title(f\"Original {i}\")\n",
    "        plt.subplot(3,3,j+1)\n",
    "        sns.histplot(x, bins = 50, kde = True)\n",
    "        plt.title(f\" Transformación Quantile{i}\")\n",
    "        plt.subplot(3,3,j+2)\n",
    "        sns.histplot(y, bins = 50, kde = True)\n",
    "        plt.title(f\"Transformación Power {i}\")\n",
    "        j += 3\n"
   ]
  },
  {
   "cell_type": "code",
   "execution_count": 129,
   "metadata": {},
   "outputs": [
    {
     "data": {
      "image/png": "[encoded data removed]",
      "text/plain": [
       "<Figure size 1440x2160 with 6 Axes>"
      ]
     },
     "metadata": {
      "needs_background": "light"
     },
     "output_type": "display_data"
    }
   ],
   "source": [
    "test_transformers(exc)"
   ]
  },
  {
   "cell_type": "markdown",
   "metadata": {},
   "source": [
    "La transformación `QuantileTransformer` es la mejor opción "
   ]
  },
  {
   "cell_type": "markdown",
   "metadata": {},
   "source": [
    "### Aplicar transformación `Quantile` a las variables `Rainfall` y `Evaporation`"
   ]
  },
  {
   "cell_type": "code",
   "execution_count": 130,
   "metadata": {},
   "outputs": [],
   "source": [
    "qt = QuantileTransformer(n_quantiles=5000, output_distribution='normal')\n",
    "array = np.array(df['Rainfall']).reshape(-1, 1)\n",
    "x = qt.fit_transform(array)\n",
    "\n",
    "df['Rainfall']= x\n",
    "\n",
    "qt = QuantileTransformer(n_quantiles=5000, output_distribution='normal')\n",
    "array = np.array(df['Evaporation']).reshape(-1, 1)\n",
    "x = qt.fit_transform(array)\n",
    "df['Evaporation'] = x"
   ]
  },
  {
   "cell_type": "markdown",
   "metadata": {},
   "source": [
    "### Reducir los valores extremos de las variables `Rainfall` y `Evaporation`\n",
    "\n",
    "Después de la transformación las variables en cuestión aún presentan colas muy largas, como podemos obervar en la gráficas de distribución. Debido a esto colocaremos un techo y un piso a los datos."
   ]
  },
  {
   "cell_type": "code",
   "execution_count": 131,
   "metadata": {},
   "outputs": [],
   "source": [
    "\n",
    "def cap(x):\n",
    "    '''\n",
    "    Función que se utiliza para acotar los datos dentro de un rango [mínimo, máximo]\n",
    "    \n",
    "    '''\n",
    "    if x>mx: x = mx\n",
    "    if x<mn: x = mn\n",
    "    return x\n"
   ]
  },
  {
   "cell_type": "code",
   "execution_count": 132,
   "metadata": {},
   "outputs": [],
   "source": [
    "# Obtener los indices de los datos dentro del rango [-2.5, 2.5]\n",
    "# El rango es empírico y es definido en base a la observación de las gráficas\n",
    "# Nota: existen otras técnicas basadas en varianza y cuartiles para definir los rangos de normalidad \n",
    "idxs = df.loc[(df.Rainfall>-2.5) | (df.Rainfall<2.5)].index \n",
    "#obtener el máximo valor\n",
    "mx = max(df.iloc[idxs].Rainfall)\n",
    "#Obtener el valor mínimo\n",
    "mn = min(df.iloc[idxs].Rainfall)\n",
    "\n",
    "#Aplicar función 'cap' para definr el piso y techo a los datos y reducir el sesgo (colas largas)\n",
    "df.Rainfall = df.Rainfall.apply(cap)"
   ]
  },
  {
   "cell_type": "markdown",
   "metadata": {},
   "source": [
    "#### Se repite el mismo proceso para la variables `Evaporation`"
   ]
  },
  {
   "cell_type": "code",
   "execution_count": 133,
   "metadata": {},
   "outputs": [],
   "source": [
    "# obtener índices\n",
    "idxs = df.loc[(df.Evaporation>-4) | (df.Evaporation<4)].index\n",
    "\n",
    "mx = max(df.iloc[idxs].Evaporation)\n",
    "mn = min(df.iloc[idxs].Evaporation)\n",
    "\n",
    "#aplicar función\n",
    "df.Evaporation = df.Evaporation.apply(cap)"
   ]
  },
  {
   "cell_type": "markdown",
   "metadata": {},
   "source": [
    "#### Graficar resultados"
   ]
  },
  {
   "cell_type": "code",
   "execution_count": 135,
   "metadata": {},
   "outputs": [
    {
     "name": "stderr",
     "output_type": "stream",
     "text": [
      "C:\\Users\\mcssa\\Anaconda3\\lib\\site-packages\\seaborn\\distributions.py:2557: FutureWarning: `distplot` is a deprecated function and will be removed in a future version. Please adapt your code to use either `displot` (a figure-level function with similar flexibility) or `histplot` (an axes-level function for histograms).\n",
      "  warnings.warn(msg, FutureWarning)\n",
      "C:\\Users\\mcssa\\Anaconda3\\lib\\site-packages\\seaborn\\distributions.py:2557: FutureWarning: `distplot` is a deprecated function and will be removed in a future version. Please adapt your code to use either `displot` (a figure-level function with similar flexibility) or `histplot` (an axes-level function for histograms).\n",
      "  warnings.warn(msg, FutureWarning)\n",
      "C:\\Users\\mcssa\\Anaconda3\\lib\\site-packages\\seaborn\\distributions.py:2557: FutureWarning: `distplot` is a deprecated function and will be removed in a future version. Please adapt your code to use either `displot` (a figure-level function with similar flexibility) or `histplot` (an axes-level function for histograms).\n",
      "  warnings.warn(msg, FutureWarning)\n"
     ]
    },
    {
     "data": {
      "text/plain": [
       "<matplotlib.axes._subplots.AxesSubplot at 0x1e4e5022388>"
      ]
     },
     "execution_count": 135,
     "metadata": {},
     "output_type": "execute_result"
    },
    {
     "data": {
      "image/png": "[encoded data removed]",
      "text/plain": [
       "<Figure size 1440x720 with 2 Axes>"
      ]
     },
     "metadata": {
      "needs_background": "light"
     },
     "output_type": "display_data"
    },
    {
     "data": {
      "image/png": "[encoded data removed]",
      "text/plain": [
       "<Figure size 432x216 with 2 Axes>"
      ]
     },
     "metadata": {
      "needs_background": "light"
     },
     "output_type": "display_data"
    }
   ],
   "source": [
    "matplotlib.rcParams['figure.figsize'] = (20.0, 10.0)\n",
    "\n",
    "\n",
    "fig,ax = plt.subplots(nrows = 1, ncols = 2)\n",
    "sns.boxplot(x = label, y = 'Rainfall',data = df,ax = ax[0])\n",
    "\n",
    "g = sns.FacetGrid(df,col=label)\n",
    "g.map(sns.distplot,\"Rainfall\")\n",
    "sns.distplot(df['Rainfall'],ax = ax[1])\n"
   ]
  },
  {
   "cell_type": "code",
   "execution_count": 136,
   "metadata": {},
   "outputs": [
    {
     "name": "stderr",
     "output_type": "stream",
     "text": [
      "C:\\Users\\mcssa\\Anaconda3\\lib\\site-packages\\seaborn\\distributions.py:2557: FutureWarning: `distplot` is a deprecated function and will be removed in a future version. Please adapt your code to use either `displot` (a figure-level function with similar flexibility) or `histplot` (an axes-level function for histograms).\n",
      "  warnings.warn(msg, FutureWarning)\n",
      "C:\\Users\\mcssa\\Anaconda3\\lib\\site-packages\\seaborn\\distributions.py:2557: FutureWarning: `distplot` is a deprecated function and will be removed in a future version. Please adapt your code to use either `displot` (a figure-level function with similar flexibility) or `histplot` (an axes-level function for histograms).\n",
      "  warnings.warn(msg, FutureWarning)\n",
      "C:\\Users\\mcssa\\Anaconda3\\lib\\site-packages\\seaborn\\distributions.py:2557: FutureWarning: `distplot` is a deprecated function and will be removed in a future version. Please adapt your code to use either `displot` (a figure-level function with similar flexibility) or `histplot` (an axes-level function for histograms).\n",
      "  warnings.warn(msg, FutureWarning)\n"
     ]
    },
    {
     "data": {
      "text/plain": [
       "<matplotlib.axes._subplots.AxesSubplot at 0x1e4e4883088>"
      ]
     },
     "execution_count": 136,
     "metadata": {},
     "output_type": "execute_result"
    },
    {
     "data": {
      "image/png": "[encoded data removed]",
      "text/plain": [
       "<Figure size 1440x720 with 2 Axes>"
      ]
     },
     "metadata": {
      "needs_background": "light"
     },
     "output_type": "display_data"
    },
    {
     "data": {
      "image/png": "[encoded data removed]",
      "text/plain": [
       "<Figure size 432x216 with 2 Axes>"
      ]
     },
     "metadata": {
      "needs_background": "light"
     },
     "output_type": "display_data"
    }
   ],
   "source": [
    "matplotlib.rcParams['figure.figsize'] = (20.0, 10.0)\n",
    "\n",
    "\n",
    "fig,ax = plt.subplots(nrows = 1, ncols = 2)\n",
    "sns.boxplot(x = label, y = 'Evaporation',data = df,ax = ax[0])\n",
    "\n",
    "g = sns.FacetGrid(df,col=label)\n",
    "g.map(sns.distplot,\"Evaporation\")\n",
    "sns.distplot(df['Evaporation'],ax = ax[1])"
   ]
  },
  {
   "cell_type": "markdown",
   "metadata": {},
   "source": [
    "\n",
    "Se logra mejorar el sesgo de ambas variables, aunque la transformación funciona mejor con `Evaporation`. `Rainfall` aún sigue mostrando posibles valores atípicos en los valores asociados a la variable de clase `No`(cero) "
   ]
  },
  {
   "cell_type": "markdown",
   "metadata": {},
   "source": [
    "### Normalizar variables númericas\n",
    "\n",
    "\n",
    "Se normalizan a través de un proceso de estandarización de datos: El objetivo es ajustar los datos bajo una premisa de distribución normal. Tiene la ventaja de que no es \"desbordado\" por los nuevos valores, a diferencia de la normalizacipon por escalamiento (Mini-Max). Es la opción más recomendada debido a que los datos probienen de sesores físicos \n",
    "\n",
    "La transformación es:\n",
    "\n",
    "$$X = \\frac {X-\\mu }{\\sigma }$$\n",
    "\n",
    "\n",
    "\n",
    "No es necesario indicar el mismo ajuste para cada atributo, por lo que las variables `Evaporation` y `Rainfall` se normalizan de forma diferente.  No hay problema si el Atributo `A` se ajusta de -1 a +1 y el Atributo `B` se ajusta de -3 a +3. Sin embargo, el modelo tendrá problemas si el Atributo `B` se escala de 5,000 a 100,000."
   ]
  },
  {
   "cell_type": "code",
   "execution_count": 137,
   "metadata": {},
   "outputs": [],
   "source": [
    "from scipy.stats import zscore\n",
    "df[num_col] = df[num_col].apply(zscore)"
   ]
  },
  {
   "cell_type": "code",
   "execution_count": 138,
   "metadata": {},
   "outputs": [
    {
     "data": {
      "text/html": [
       "<div>\n",
       "<style scoped>\n",
       "    .dataframe tbody tr th:only-of-type {\n",
       "        vertical-align: middle;\n",
       "    }\n",
       "\n",
       "    .dataframe tbody tr th {\n",
       "        vertical-align: top;\n",
       "    }\n",
       "\n",
       "    .dataframe thead th {\n",
       "        text-align: right;\n",
       "    }\n",
       "</style>\n",
       "<table border=\"1\" class=\"dataframe\">\n",
       "  <thead>\n",
       "    <tr style=\"text-align: right;\">\n",
       "      <th></th>\n",
       "      <th>Date</th>\n",
       "      <th>Location</th>\n",
       "      <th>MinTemp</th>\n",
       "      <th>MaxTemp</th>\n",
       "      <th>Rainfall</th>\n",
       "      <th>Evaporation</th>\n",
       "      <th>Sunshine</th>\n",
       "      <th>WindGustDir</th>\n",
       "      <th>WindGustSpeed</th>\n",
       "      <th>WindDir9am</th>\n",
       "      <th>...</th>\n",
       "      <th>Humidity9am</th>\n",
       "      <th>Humidity3pm</th>\n",
       "      <th>Pressure9am</th>\n",
       "      <th>Pressure3pm</th>\n",
       "      <th>Cloud9am</th>\n",
       "      <th>Cloud3pm</th>\n",
       "      <th>Temp9am</th>\n",
       "      <th>Temp3pm</th>\n",
       "      <th>RainToday</th>\n",
       "      <th>RainTomorrow</th>\n",
       "    </tr>\n",
       "  </thead>\n",
       "  <tbody>\n",
       "    <tr>\n",
       "      <td>0</td>\n",
       "      <td>2009-01-01</td>\n",
       "      <td>4</td>\n",
       "      <td>0.691208</td>\n",
       "      <td>1.575298</td>\n",
       "      <td>0.135801</td>\n",
       "      <td>1.655518</td>\n",
       "      <td>1.214537</td>\n",
       "      <td>11</td>\n",
       "      <td>0.534126</td>\n",
       "      <td>1</td>\n",
       "      <td>...</td>\n",
       "      <td>-2.477924</td>\n",
       "      <td>-1.812261</td>\n",
       "      <td>-1.583303</td>\n",
       "      <td>-1.513002</td>\n",
       "      <td>-0.801428</td>\n",
       "      <td>0.254411</td>\n",
       "      <td>1.278186</td>\n",
       "      <td>1.563621</td>\n",
       "      <td>0</td>\n",
       "      <td>0</td>\n",
       "    </tr>\n",
       "    <tr>\n",
       "      <td>1</td>\n",
       "      <td>2009-01-02</td>\n",
       "      <td>4</td>\n",
       "      <td>0.769131</td>\n",
       "      <td>0.671504</td>\n",
       "      <td>0.135801</td>\n",
       "      <td>2.099110</td>\n",
       "      <td>1.400800</td>\n",
       "      <td>8</td>\n",
       "      <td>-0.290764</td>\n",
       "      <td>10</td>\n",
       "      <td>...</td>\n",
       "      <td>-1.937767</td>\n",
       "      <td>-2.059824</td>\n",
       "      <td>-0.628068</td>\n",
       "      <td>-0.392322</td>\n",
       "      <td>-1.158937</td>\n",
       "      <td>-1.256603</td>\n",
       "      <td>0.318980</td>\n",
       "      <td>0.627467</td>\n",
       "      <td>0</td>\n",
       "      <td>0</td>\n",
       "    </tr>\n",
       "    <tr>\n",
       "      <td>2</td>\n",
       "      <td>2009-01-04</td>\n",
       "      <td>4</td>\n",
       "      <td>0.924976</td>\n",
       "      <td>1.919600</td>\n",
       "      <td>0.135801</td>\n",
       "      <td>1.360617</td>\n",
       "      <td>0.762183</td>\n",
       "      <td>5</td>\n",
       "      <td>0.384146</td>\n",
       "      <td>5</td>\n",
       "      <td>...</td>\n",
       "      <td>-1.289578</td>\n",
       "      <td>-1.366647</td>\n",
       "      <td>-0.714907</td>\n",
       "      <td>-0.814396</td>\n",
       "      <td>-1.158937</td>\n",
       "      <td>0.632165</td>\n",
       "      <td>1.597921</td>\n",
       "      <td>1.783032</td>\n",
       "      <td>0</td>\n",
       "      <td>0</td>\n",
       "    </tr>\n",
       "    <tr>\n",
       "      <td>3</td>\n",
       "      <td>2009-01-05</td>\n",
       "      <td>4</td>\n",
       "      <td>1.314588</td>\n",
       "      <td>2.034368</td>\n",
       "      <td>0.135801</td>\n",
       "      <td>1.528352</td>\n",
       "      <td>1.187928</td>\n",
       "      <td>14</td>\n",
       "      <td>-0.740704</td>\n",
       "      <td>14</td>\n",
       "      <td>...</td>\n",
       "      <td>-1.559657</td>\n",
       "      <td>-1.366647</td>\n",
       "      <td>-0.657014</td>\n",
       "      <td>-0.828951</td>\n",
       "      <td>-1.158937</td>\n",
       "      <td>0.254411</td>\n",
       "      <td>1.658823</td>\n",
       "      <td>1.885424</td>\n",
       "      <td>0</td>\n",
       "      <td>0</td>\n",
       "    </tr>\n",
       "    <tr>\n",
       "      <td>4</td>\n",
       "      <td>2009-01-06</td>\n",
       "      <td>4</td>\n",
       "      <td>1.673032</td>\n",
       "      <td>2.407362</td>\n",
       "      <td>0.135801</td>\n",
       "      <td>1.490750</td>\n",
       "      <td>0.176784</td>\n",
       "      <td>14</td>\n",
       "      <td>-0.440744</td>\n",
       "      <td>7</td>\n",
       "      <td>...</td>\n",
       "      <td>-2.531940</td>\n",
       "      <td>-1.713236</td>\n",
       "      <td>-0.946479</td>\n",
       "      <td>-1.076373</td>\n",
       "      <td>-1.158937</td>\n",
       "      <td>0.632165</td>\n",
       "      <td>2.343970</td>\n",
       "      <td>2.177972</td>\n",
       "      <td>0</td>\n",
       "      <td>0</td>\n",
       "    </tr>\n",
       "    <tr>\n",
       "      <td>...</td>\n",
       "      <td>...</td>\n",
       "      <td>...</td>\n",
       "      <td>...</td>\n",
       "      <td>...</td>\n",
       "      <td>...</td>\n",
       "      <td>...</td>\n",
       "      <td>...</td>\n",
       "      <td>...</td>\n",
       "      <td>...</td>\n",
       "      <td>...</td>\n",
       "      <td>...</td>\n",
       "      <td>...</td>\n",
       "      <td>...</td>\n",
       "      <td>...</td>\n",
       "      <td>...</td>\n",
       "      <td>...</td>\n",
       "      <td>...</td>\n",
       "      <td>...</td>\n",
       "      <td>...</td>\n",
       "      <td>...</td>\n",
       "      <td>...</td>\n",
       "    </tr>\n",
       "    <tr>\n",
       "      <td>56415</td>\n",
       "      <td>2017-06-20</td>\n",
       "      <td>6</td>\n",
       "      <td>0.909391</td>\n",
       "      <td>1.317071</td>\n",
       "      <td>0.135801</td>\n",
       "      <td>-1.318198</td>\n",
       "      <td>0.868619</td>\n",
       "      <td>1</td>\n",
       "      <td>-0.440744</td>\n",
       "      <td>9</td>\n",
       "      <td>...</td>\n",
       "      <td>-0.155248</td>\n",
       "      <td>-0.871521</td>\n",
       "      <td>-0.483335</td>\n",
       "      <td>-0.625191</td>\n",
       "      <td>-1.516445</td>\n",
       "      <td>-1.256603</td>\n",
       "      <td>0.958451</td>\n",
       "      <td>1.402719</td>\n",
       "      <td>0</td>\n",
       "      <td>0</td>\n",
       "    </tr>\n",
       "    <tr>\n",
       "      <td>56416</td>\n",
       "      <td>2017-06-21</td>\n",
       "      <td>6</td>\n",
       "      <td>1.205497</td>\n",
       "      <td>1.202303</td>\n",
       "      <td>0.135801</td>\n",
       "      <td>-0.178193</td>\n",
       "      <td>0.230002</td>\n",
       "      <td>0</td>\n",
       "      <td>-0.290764</td>\n",
       "      <td>9</td>\n",
       "      <td>...</td>\n",
       "      <td>-0.533358</td>\n",
       "      <td>-1.069571</td>\n",
       "      <td>-0.382022</td>\n",
       "      <td>-0.523311</td>\n",
       "      <td>0.986113</td>\n",
       "      <td>-1.634357</td>\n",
       "      <td>1.004127</td>\n",
       "      <td>1.358837</td>\n",
       "      <td>0</td>\n",
       "      <td>0</td>\n",
       "    </tr>\n",
       "    <tr>\n",
       "      <td>56417</td>\n",
       "      <td>2017-06-22</td>\n",
       "      <td>6</td>\n",
       "      <td>1.127574</td>\n",
       "      <td>1.230995</td>\n",
       "      <td>0.135801</td>\n",
       "      <td>-2.311520</td>\n",
       "      <td>0.868619</td>\n",
       "      <td>0</td>\n",
       "      <td>-0.590724</td>\n",
       "      <td>0</td>\n",
       "      <td>...</td>\n",
       "      <td>-1.073515</td>\n",
       "      <td>-1.317135</td>\n",
       "      <td>-0.280710</td>\n",
       "      <td>-0.435985</td>\n",
       "      <td>-1.516445</td>\n",
       "      <td>-1.634357</td>\n",
       "      <td>1.004127</td>\n",
       "      <td>1.373465</td>\n",
       "      <td>0</td>\n",
       "      <td>0</td>\n",
       "    </tr>\n",
       "    <tr>\n",
       "      <td>56418</td>\n",
       "      <td>2017-06-23</td>\n",
       "      <td>6</td>\n",
       "      <td>0.940560</td>\n",
       "      <td>1.087536</td>\n",
       "      <td>0.135801</td>\n",
       "      <td>-1.096055</td>\n",
       "      <td>0.762183</td>\n",
       "      <td>2</td>\n",
       "      <td>-1.115654</td>\n",
       "      <td>9</td>\n",
       "      <td>...</td>\n",
       "      <td>-0.209264</td>\n",
       "      <td>0.415808</td>\n",
       "      <td>-0.338603</td>\n",
       "      <td>-0.596082</td>\n",
       "      <td>-1.158937</td>\n",
       "      <td>-1.256603</td>\n",
       "      <td>1.004127</td>\n",
       "      <td>0.949270</td>\n",
       "      <td>0</td>\n",
       "      <td>0</td>\n",
       "    </tr>\n",
       "    <tr>\n",
       "      <td>56419</td>\n",
       "      <td>2017-06-24</td>\n",
       "      <td>6</td>\n",
       "      <td>1.049652</td>\n",
       "      <td>1.073190</td>\n",
       "      <td>0.135801</td>\n",
       "      <td>-2.311520</td>\n",
       "      <td>0.788792</td>\n",
       "      <td>1</td>\n",
       "      <td>-0.815694</td>\n",
       "      <td>1</td>\n",
       "      <td>...</td>\n",
       "      <td>0.384909</td>\n",
       "      <td>-0.871521</td>\n",
       "      <td>-0.483335</td>\n",
       "      <td>-0.741625</td>\n",
       "      <td>0.628605</td>\n",
       "      <td>0.254411</td>\n",
       "      <td>1.095480</td>\n",
       "      <td>1.212563</td>\n",
       "      <td>0</td>\n",
       "      <td>0</td>\n",
       "    </tr>\n",
       "  </tbody>\n",
       "</table>\n",
       "<p>56420 rows × 23 columns</p>\n",
       "</div>"
      ],
      "text/plain": [
       "            Date  Location   MinTemp   MaxTemp  Rainfall  Evaporation  \\\n",
       "0     2009-01-01         4  0.691208  1.575298  0.135801     1.655518   \n",
       "1     2009-01-02         4  0.769131  0.671504  0.135801     2.099110   \n",
       "2     2009-01-04         4  0.924976  1.919600  0.135801     1.360617   \n",
       "3     2009-01-05         4  1.314588  2.034368  0.135801     1.528352   \n",
       "4     2009-01-06         4  1.673032  2.407362  0.135801     1.490750   \n",
       "...          ...       ...       ...       ...       ...          ...   \n",
       "56415 2017-06-20         6  0.909391  1.317071  0.135801    -1.318198   \n",
       "56416 2017-06-21         6  1.205497  1.202303  0.135801    -0.178193   \n",
       "56417 2017-06-22         6  1.127574  1.230995  0.135801    -2.311520   \n",
       "56418 2017-06-23         6  0.940560  1.087536  0.135801    -1.096055   \n",
       "56419 2017-06-24         6  1.049652  1.073190  0.135801    -2.311520   \n",
       "\n",
       "       Sunshine  WindGustDir  WindGustSpeed  WindDir9am  ...  Humidity9am  \\\n",
       "0      1.214537           11       0.534126           1  ...    -2.477924   \n",
       "1      1.400800            8      -0.290764          10  ...    -1.937767   \n",
       "2      0.762183            5       0.384146           5  ...    -1.289578   \n",
       "3      1.187928           14      -0.740704          14  ...    -1.559657   \n",
       "4      0.176784           14      -0.440744           7  ...    -2.531940   \n",
       "...         ...          ...            ...         ...  ...          ...   \n",
       "56415  0.868619            1      -0.440744           9  ...    -0.155248   \n",
       "56416  0.230002            0      -0.290764           9  ...    -0.533358   \n",
       "56417  0.868619            0      -0.590724           0  ...    -1.073515   \n",
       "56418  0.762183            2      -1.115654           9  ...    -0.209264   \n",
       "56419  0.788792            1      -0.815694           1  ...     0.384909   \n",
       "\n",
       "       Humidity3pm  Pressure9am  Pressure3pm  Cloud9am  Cloud3pm   Temp9am  \\\n",
       "0        -1.812261    -1.583303    -1.513002 -0.801428  0.254411  1.278186   \n",
       "1        -2.059824    -0.628068    -0.392322 -1.158937 -1.256603  0.318980   \n",
       "2        -1.366647    -0.714907    -0.814396 -1.158937  0.632165  1.597921   \n",
       "3        -1.366647    -0.657014    -0.828951 -1.158937  0.254411  1.658823   \n",
       "4        -1.713236    -0.946479    -1.076373 -1.158937  0.632165  2.343970   \n",
       "...            ...          ...          ...       ...       ...       ...   \n",
       "56415    -0.871521    -0.483335    -0.625191 -1.516445 -1.256603  0.958451   \n",
       "56416    -1.069571    -0.382022    -0.523311  0.986113 -1.634357  1.004127   \n",
       "56417    -1.317135    -0.280710    -0.435985 -1.516445 -1.634357  1.004127   \n",
       "56418     0.415808    -0.338603    -0.596082 -1.158937 -1.256603  1.004127   \n",
       "56419    -0.871521    -0.483335    -0.741625  0.628605  0.254411  1.095480   \n",
       "\n",
       "        Temp3pm  RainToday  RainTomorrow  \n",
       "0      1.563621          0             0  \n",
       "1      0.627467          0             0  \n",
       "2      1.783032          0             0  \n",
       "3      1.885424          0             0  \n",
       "4      2.177972          0             0  \n",
       "...         ...        ...           ...  \n",
       "56415  1.402719          0             0  \n",
       "56416  1.358837          0             0  \n",
       "56417  1.373465          0             0  \n",
       "56418  0.949270          0             0  \n",
       "56419  1.212563          0             0  \n",
       "\n",
       "[56420 rows x 23 columns]"
      ]
     },
     "execution_count": 138,
     "metadata": {},
     "output_type": "execute_result"
    }
   ],
   "source": [
    "df"
   ]
  },
  {
   "cell_type": "markdown",
   "metadata": {},
   "source": [
    "### Transformación de variables categóricas\n",
    "\n",
    "La primera opción es una codificación de etiqueta (`Label encoding`), es decir varibales categoricas ordinales. Observaremos como se comportan en el modelado  y lo compararemos con una códificación `one hot encoder`"
   ]
  },
  {
   "cell_type": "code",
   "execution_count": 149,
   "metadata": {},
   "outputs": [],
   "source": [
    "from sklearn import preprocessing\n",
    "\n",
    "le = preprocessing.LabelEncoder()\n",
    "df['Location'] = le.fit_transform(df['Location'])\n",
    "df['WindDir9am'] = le.fit_transform(df['WindDir9am'])\n",
    "df['WindDir3pm'] = le.fit_transform(df['WindDir3pm'])\n",
    "df['WindGustDir'] = le.fit_transform(df['WindGustDir'])\n",
    "\n",
    "#pd.get_dummies(df, columns = [\"Location\"], drop_first = True)"
   ]
  },
  {
   "cell_type": "code",
   "execution_count": 140,
   "metadata": {},
   "outputs": [
    {
     "data": {
      "text/html": [
       "<div>\n",
       "<style scoped>\n",
       "    .dataframe tbody tr th:only-of-type {\n",
       "        vertical-align: middle;\n",
       "    }\n",
       "\n",
       "    .dataframe tbody tr th {\n",
       "        vertical-align: top;\n",
       "    }\n",
       "\n",
       "    .dataframe thead th {\n",
       "        text-align: right;\n",
       "    }\n",
       "</style>\n",
       "<table border=\"1\" class=\"dataframe\">\n",
       "  <thead>\n",
       "    <tr style=\"text-align: right;\">\n",
       "      <th></th>\n",
       "      <th>Date</th>\n",
       "      <th>Location</th>\n",
       "      <th>MinTemp</th>\n",
       "      <th>MaxTemp</th>\n",
       "      <th>Rainfall</th>\n",
       "      <th>Evaporation</th>\n",
       "      <th>Sunshine</th>\n",
       "      <th>WindGustDir</th>\n",
       "      <th>WindGustSpeed</th>\n",
       "      <th>WindDir9am</th>\n",
       "      <th>...</th>\n",
       "      <th>Humidity9am</th>\n",
       "      <th>Humidity3pm</th>\n",
       "      <th>Pressure9am</th>\n",
       "      <th>Pressure3pm</th>\n",
       "      <th>Cloud9am</th>\n",
       "      <th>Cloud3pm</th>\n",
       "      <th>Temp9am</th>\n",
       "      <th>Temp3pm</th>\n",
       "      <th>RainToday</th>\n",
       "      <th>RainTomorrow</th>\n",
       "    </tr>\n",
       "  </thead>\n",
       "  <tbody>\n",
       "    <tr>\n",
       "      <td>0</td>\n",
       "      <td>2009-01-01</td>\n",
       "      <td>4</td>\n",
       "      <td>0.691208</td>\n",
       "      <td>1.575298</td>\n",
       "      <td>0.135801</td>\n",
       "      <td>1.655518</td>\n",
       "      <td>1.214537</td>\n",
       "      <td>11</td>\n",
       "      <td>0.534126</td>\n",
       "      <td>1</td>\n",
       "      <td>...</td>\n",
       "      <td>-2.477924</td>\n",
       "      <td>-1.812261</td>\n",
       "      <td>-1.583303</td>\n",
       "      <td>-1.513002</td>\n",
       "      <td>-0.801428</td>\n",
       "      <td>0.254411</td>\n",
       "      <td>1.278186</td>\n",
       "      <td>1.563621</td>\n",
       "      <td>0</td>\n",
       "      <td>0</td>\n",
       "    </tr>\n",
       "    <tr>\n",
       "      <td>1</td>\n",
       "      <td>2009-01-02</td>\n",
       "      <td>4</td>\n",
       "      <td>0.769131</td>\n",
       "      <td>0.671504</td>\n",
       "      <td>0.135801</td>\n",
       "      <td>2.099110</td>\n",
       "      <td>1.400800</td>\n",
       "      <td>8</td>\n",
       "      <td>-0.290764</td>\n",
       "      <td>10</td>\n",
       "      <td>...</td>\n",
       "      <td>-1.937767</td>\n",
       "      <td>-2.059824</td>\n",
       "      <td>-0.628068</td>\n",
       "      <td>-0.392322</td>\n",
       "      <td>-1.158937</td>\n",
       "      <td>-1.256603</td>\n",
       "      <td>0.318980</td>\n",
       "      <td>0.627467</td>\n",
       "      <td>0</td>\n",
       "      <td>0</td>\n",
       "    </tr>\n",
       "    <tr>\n",
       "      <td>2</td>\n",
       "      <td>2009-01-04</td>\n",
       "      <td>4</td>\n",
       "      <td>0.924976</td>\n",
       "      <td>1.919600</td>\n",
       "      <td>0.135801</td>\n",
       "      <td>1.360617</td>\n",
       "      <td>0.762183</td>\n",
       "      <td>5</td>\n",
       "      <td>0.384146</td>\n",
       "      <td>5</td>\n",
       "      <td>...</td>\n",
       "      <td>-1.289578</td>\n",
       "      <td>-1.366647</td>\n",
       "      <td>-0.714907</td>\n",
       "      <td>-0.814396</td>\n",
       "      <td>-1.158937</td>\n",
       "      <td>0.632165</td>\n",
       "      <td>1.597921</td>\n",
       "      <td>1.783032</td>\n",
       "      <td>0</td>\n",
       "      <td>0</td>\n",
       "    </tr>\n",
       "    <tr>\n",
       "      <td>3</td>\n",
       "      <td>2009-01-05</td>\n",
       "      <td>4</td>\n",
       "      <td>1.314588</td>\n",
       "      <td>2.034368</td>\n",
       "      <td>0.135801</td>\n",
       "      <td>1.528352</td>\n",
       "      <td>1.187928</td>\n",
       "      <td>14</td>\n",
       "      <td>-0.740704</td>\n",
       "      <td>14</td>\n",
       "      <td>...</td>\n",
       "      <td>-1.559657</td>\n",
       "      <td>-1.366647</td>\n",
       "      <td>-0.657014</td>\n",
       "      <td>-0.828951</td>\n",
       "      <td>-1.158937</td>\n",
       "      <td>0.254411</td>\n",
       "      <td>1.658823</td>\n",
       "      <td>1.885424</td>\n",
       "      <td>0</td>\n",
       "      <td>0</td>\n",
       "    </tr>\n",
       "    <tr>\n",
       "      <td>4</td>\n",
       "      <td>2009-01-06</td>\n",
       "      <td>4</td>\n",
       "      <td>1.673032</td>\n",
       "      <td>2.407362</td>\n",
       "      <td>0.135801</td>\n",
       "      <td>1.490750</td>\n",
       "      <td>0.176784</td>\n",
       "      <td>14</td>\n",
       "      <td>-0.440744</td>\n",
       "      <td>7</td>\n",
       "      <td>...</td>\n",
       "      <td>-2.531940</td>\n",
       "      <td>-1.713236</td>\n",
       "      <td>-0.946479</td>\n",
       "      <td>-1.076373</td>\n",
       "      <td>-1.158937</td>\n",
       "      <td>0.632165</td>\n",
       "      <td>2.343970</td>\n",
       "      <td>2.177972</td>\n",
       "      <td>0</td>\n",
       "      <td>0</td>\n",
       "    </tr>\n",
       "    <tr>\n",
       "      <td>...</td>\n",
       "      <td>...</td>\n",
       "      <td>...</td>\n",
       "      <td>...</td>\n",
       "      <td>...</td>\n",
       "      <td>...</td>\n",
       "      <td>...</td>\n",
       "      <td>...</td>\n",
       "      <td>...</td>\n",
       "      <td>...</td>\n",
       "      <td>...</td>\n",
       "      <td>...</td>\n",
       "      <td>...</td>\n",
       "      <td>...</td>\n",
       "      <td>...</td>\n",
       "      <td>...</td>\n",
       "      <td>...</td>\n",
       "      <td>...</td>\n",
       "      <td>...</td>\n",
       "      <td>...</td>\n",
       "      <td>...</td>\n",
       "      <td>...</td>\n",
       "    </tr>\n",
       "    <tr>\n",
       "      <td>56415</td>\n",
       "      <td>2017-06-20</td>\n",
       "      <td>6</td>\n",
       "      <td>0.909391</td>\n",
       "      <td>1.317071</td>\n",
       "      <td>0.135801</td>\n",
       "      <td>-1.318198</td>\n",
       "      <td>0.868619</td>\n",
       "      <td>1</td>\n",
       "      <td>-0.440744</td>\n",
       "      <td>9</td>\n",
       "      <td>...</td>\n",
       "      <td>-0.155248</td>\n",
       "      <td>-0.871521</td>\n",
       "      <td>-0.483335</td>\n",
       "      <td>-0.625191</td>\n",
       "      <td>-1.516445</td>\n",
       "      <td>-1.256603</td>\n",
       "      <td>0.958451</td>\n",
       "      <td>1.402719</td>\n",
       "      <td>0</td>\n",
       "      <td>0</td>\n",
       "    </tr>\n",
       "    <tr>\n",
       "      <td>56416</td>\n",
       "      <td>2017-06-21</td>\n",
       "      <td>6</td>\n",
       "      <td>1.205497</td>\n",
       "      <td>1.202303</td>\n",
       "      <td>0.135801</td>\n",
       "      <td>-0.178193</td>\n",
       "      <td>0.230002</td>\n",
       "      <td>0</td>\n",
       "      <td>-0.290764</td>\n",
       "      <td>9</td>\n",
       "      <td>...</td>\n",
       "      <td>-0.533358</td>\n",
       "      <td>-1.069571</td>\n",
       "      <td>-0.382022</td>\n",
       "      <td>-0.523311</td>\n",
       "      <td>0.986113</td>\n",
       "      <td>-1.634357</td>\n",
       "      <td>1.004127</td>\n",
       "      <td>1.358837</td>\n",
       "      <td>0</td>\n",
       "      <td>0</td>\n",
       "    </tr>\n",
       "    <tr>\n",
       "      <td>56417</td>\n",
       "      <td>2017-06-22</td>\n",
       "      <td>6</td>\n",
       "      <td>1.127574</td>\n",
       "      <td>1.230995</td>\n",
       "      <td>0.135801</td>\n",
       "      <td>-2.311520</td>\n",
       "      <td>0.868619</td>\n",
       "      <td>0</td>\n",
       "      <td>-0.590724</td>\n",
       "      <td>0</td>\n",
       "      <td>...</td>\n",
       "      <td>-1.073515</td>\n",
       "      <td>-1.317135</td>\n",
       "      <td>-0.280710</td>\n",
       "      <td>-0.435985</td>\n",
       "      <td>-1.516445</td>\n",
       "      <td>-1.634357</td>\n",
       "      <td>1.004127</td>\n",
       "      <td>1.373465</td>\n",
       "      <td>0</td>\n",
       "      <td>0</td>\n",
       "    </tr>\n",
       "    <tr>\n",
       "      <td>56418</td>\n",
       "      <td>2017-06-23</td>\n",
       "      <td>6</td>\n",
       "      <td>0.940560</td>\n",
       "      <td>1.087536</td>\n",
       "      <td>0.135801</td>\n",
       "      <td>-1.096055</td>\n",
       "      <td>0.762183</td>\n",
       "      <td>2</td>\n",
       "      <td>-1.115654</td>\n",
       "      <td>9</td>\n",
       "      <td>...</td>\n",
       "      <td>-0.209264</td>\n",
       "      <td>0.415808</td>\n",
       "      <td>-0.338603</td>\n",
       "      <td>-0.596082</td>\n",
       "      <td>-1.158937</td>\n",
       "      <td>-1.256603</td>\n",
       "      <td>1.004127</td>\n",
       "      <td>0.949270</td>\n",
       "      <td>0</td>\n",
       "      <td>0</td>\n",
       "    </tr>\n",
       "    <tr>\n",
       "      <td>56419</td>\n",
       "      <td>2017-06-24</td>\n",
       "      <td>6</td>\n",
       "      <td>1.049652</td>\n",
       "      <td>1.073190</td>\n",
       "      <td>0.135801</td>\n",
       "      <td>-2.311520</td>\n",
       "      <td>0.788792</td>\n",
       "      <td>1</td>\n",
       "      <td>-0.815694</td>\n",
       "      <td>1</td>\n",
       "      <td>...</td>\n",
       "      <td>0.384909</td>\n",
       "      <td>-0.871521</td>\n",
       "      <td>-0.483335</td>\n",
       "      <td>-0.741625</td>\n",
       "      <td>0.628605</td>\n",
       "      <td>0.254411</td>\n",
       "      <td>1.095480</td>\n",
       "      <td>1.212563</td>\n",
       "      <td>0</td>\n",
       "      <td>0</td>\n",
       "    </tr>\n",
       "  </tbody>\n",
       "</table>\n",
       "<p>56420 rows × 23 columns</p>\n",
       "</div>"
      ],
      "text/plain": [
       "            Date  Location   MinTemp   MaxTemp  Rainfall  Evaporation  \\\n",
       "0     2009-01-01         4  0.691208  1.575298  0.135801     1.655518   \n",
       "1     2009-01-02         4  0.769131  0.671504  0.135801     2.099110   \n",
       "2     2009-01-04         4  0.924976  1.919600  0.135801     1.360617   \n",
       "3     2009-01-05         4  1.314588  2.034368  0.135801     1.528352   \n",
       "4     2009-01-06         4  1.673032  2.407362  0.135801     1.490750   \n",
       "...          ...       ...       ...       ...       ...          ...   \n",
       "56415 2017-06-20         6  0.909391  1.317071  0.135801    -1.318198   \n",
       "56416 2017-06-21         6  1.205497  1.202303  0.135801    -0.178193   \n",
       "56417 2017-06-22         6  1.127574  1.230995  0.135801    -2.311520   \n",
       "56418 2017-06-23         6  0.940560  1.087536  0.135801    -1.096055   \n",
       "56419 2017-06-24         6  1.049652  1.073190  0.135801    -2.311520   \n",
       "\n",
       "       Sunshine  WindGustDir  WindGustSpeed  WindDir9am  ...  Humidity9am  \\\n",
       "0      1.214537           11       0.534126           1  ...    -2.477924   \n",
       "1      1.400800            8      -0.290764          10  ...    -1.937767   \n",
       "2      0.762183            5       0.384146           5  ...    -1.289578   \n",
       "3      1.187928           14      -0.740704          14  ...    -1.559657   \n",
       "4      0.176784           14      -0.440744           7  ...    -2.531940   \n",
       "...         ...          ...            ...         ...  ...          ...   \n",
       "56415  0.868619            1      -0.440744           9  ...    -0.155248   \n",
       "56416  0.230002            0      -0.290764           9  ...    -0.533358   \n",
       "56417  0.868619            0      -0.590724           0  ...    -1.073515   \n",
       "56418  0.762183            2      -1.115654           9  ...    -0.209264   \n",
       "56419  0.788792            1      -0.815694           1  ...     0.384909   \n",
       "\n",
       "       Humidity3pm  Pressure9am  Pressure3pm  Cloud9am  Cloud3pm   Temp9am  \\\n",
       "0        -1.812261    -1.583303    -1.513002 -0.801428  0.254411  1.278186   \n",
       "1        -2.059824    -0.628068    -0.392322 -1.158937 -1.256603  0.318980   \n",
       "2        -1.366647    -0.714907    -0.814396 -1.158937  0.632165  1.597921   \n",
       "3        -1.366647    -0.657014    -0.828951 -1.158937  0.254411  1.658823   \n",
       "4        -1.713236    -0.946479    -1.076373 -1.158937  0.632165  2.343970   \n",
       "...            ...          ...          ...       ...       ...       ...   \n",
       "56415    -0.871521    -0.483335    -0.625191 -1.516445 -1.256603  0.958451   \n",
       "56416    -1.069571    -0.382022    -0.523311  0.986113 -1.634357  1.004127   \n",
       "56417    -1.317135    -0.280710    -0.435985 -1.516445 -1.634357  1.004127   \n",
       "56418     0.415808    -0.338603    -0.596082 -1.158937 -1.256603  1.004127   \n",
       "56419    -0.871521    -0.483335    -0.741625  0.628605  0.254411  1.095480   \n",
       "\n",
       "        Temp3pm  RainToday  RainTomorrow  \n",
       "0      1.563621          0             0  \n",
       "1      0.627467          0             0  \n",
       "2      1.783032          0             0  \n",
       "3      1.885424          0             0  \n",
       "4      2.177972          0             0  \n",
       "...         ...        ...           ...  \n",
       "56415  1.402719          0             0  \n",
       "56416  1.358837          0             0  \n",
       "56417  1.373465          0             0  \n",
       "56418  0.949270          0             0  \n",
       "56419  1.212563          0             0  \n",
       "\n",
       "[56420 rows x 23 columns]"
      ]
     },
     "execution_count": 140,
     "metadata": {},
     "output_type": "execute_result"
    }
   ],
   "source": [
    "df"
   ]
  },
  {
   "cell_type": "markdown",
   "metadata": {},
   "source": [
    "### Agregar variables"
   ]
  },
  {
   "cell_type": "markdown",
   "metadata": {},
   "source": [
    "#### Variable Date"
   ]
  },
  {
   "cell_type": "code",
   "execution_count": 153,
   "metadata": {},
   "outputs": [],
   "source": [
    "# agregar dos variable más a los datos : mes y dia\n",
    "df['month'] = df.Date.dt.month\n",
    "df['day'] = df.Date.dt.day"
   ]
  },
  {
   "cell_type": "markdown",
   "metadata": {},
   "source": [
    "#### Codificación de características cíclicas\n",
    "\n",
    "Existen meses que son mas propensos a que lluevaa de acuerdo a la estación del año, este tipo de caractéristicas son cíclicas ya que se repiten cada año. Por esto motivo podemos agregarla dicha información a los datos con los que aprenderá el modelo, sin embargo deben de tener la representación correcta."
   ]
  },
  {
   "cell_type": "markdown",
   "metadata": {},
   "source": [
    "Los datos representados de forma categorica ordinal (discreta) para la variable `month` se ven de la siguiente forma:"
   ]
  },
  {
   "cell_type": "code",
   "execution_count": 142,
   "metadata": {},
   "outputs": [
    {
     "data": {
      "image/png": "[encoded data removed]",
      "text/plain": [
       "<Figure size 1440x720 with 1 Axes>"
      ]
     },
     "metadata": {
      "needs_background": "light"
     },
     "output_type": "display_data"
    }
   ],
   "source": [
    "ax = df['month'].head(500).plot()"
   ]
  },
  {
   "cell_type": "markdown",
   "metadata": {},
   "source": [
    "\n",
    "\n",
    "Un método común para codificar datos cíclicos es transformar los datos en dos dimensiones utilizando una transformación seno y conseno\n",
    "\n",
    "Podemos hacer eso usando las siguientes transformaciones:"
   ]
  },
  {
   "cell_type": "code",
   "execution_count": 154,
   "metadata": {},
   "outputs": [],
   "source": [
    "def encode(data, col, max_val):\n",
    "    \"\"\"\n",
    "    Aplicar la transformación seno y coseno a un vetor\n",
    "    \n",
    "    input \n",
    "            data:\n",
    "            col:\n",
    "            max_val:\n",
    "    \n",
    "    output\n",
    "            data\n",
    "    \"\"\"\n",
    "    data[col + '_sin'] = np.sin(2 * np.pi * data[col]/max_val)\n",
    "    data[col + '_cos'] = np.cos(2 * np.pi * data[col]/max_val)\n",
    "    return data"
   ]
  },
  {
   "cell_type": "code",
   "execution_count": 144,
   "metadata": {},
   "outputs": [],
   "source": [
    "df = encode(df, 'month', 12)\n",
    "df = encode(df, 'day', 365)"
   ]
  },
  {
   "cell_type": "markdown",
   "metadata": {},
   "source": [
    "Ahora la diferencia absoluta entre el mes 11, el mes 12 (diciembre) y el mes 1 (enero) es la misma.\n",
    "Si graficamos ambas características en dos dimensiones, obtenemos lo siguiente:\n"
   ]
  },
  {
   "cell_type": "code",
   "execution_count": 145,
   "metadata": {},
   "outputs": [
    {
     "data": {
      "image/png": "[encoded data removed]",
      "text/plain": [
       "<Figure size 1440x720 with 1 Axes>"
      ]
     },
     "metadata": {
      "needs_background": "light"
     },
     "output_type": "display_data"
    }
   ],
   "source": [
    "ax = df.head(1000).plot.scatter('month_sin', 'month_cos').set_aspect('equal')"
   ]
  },
  {
   "cell_type": "markdown",
   "metadata": {},
   "source": [
    "### Alamcenamiento de datos"
   ]
  },
  {
   "cell_type": "code",
   "execution_count": 146,
   "metadata": {},
   "outputs": [
    {
     "data": {
      "text/html": [
       "<div>\n",
       "<style scoped>\n",
       "    .dataframe tbody tr th:only-of-type {\n",
       "        vertical-align: middle;\n",
       "    }\n",
       "\n",
       "    .dataframe tbody tr th {\n",
       "        vertical-align: top;\n",
       "    }\n",
       "\n",
       "    .dataframe thead th {\n",
       "        text-align: right;\n",
       "    }\n",
       "</style>\n",
       "<table border=\"1\" class=\"dataframe\">\n",
       "  <thead>\n",
       "    <tr style=\"text-align: right;\">\n",
       "      <th></th>\n",
       "      <th>Date</th>\n",
       "      <th>Location</th>\n",
       "      <th>MinTemp</th>\n",
       "      <th>MaxTemp</th>\n",
       "      <th>Rainfall</th>\n",
       "      <th>Evaporation</th>\n",
       "      <th>Sunshine</th>\n",
       "      <th>WindGustDir</th>\n",
       "      <th>WindGustSpeed</th>\n",
       "      <th>WindDir9am</th>\n",
       "      <th>...</th>\n",
       "      <th>Temp9am</th>\n",
       "      <th>Temp3pm</th>\n",
       "      <th>RainToday</th>\n",
       "      <th>RainTomorrow</th>\n",
       "      <th>month</th>\n",
       "      <th>day</th>\n",
       "      <th>month_sin</th>\n",
       "      <th>month_cos</th>\n",
       "      <th>day_sin</th>\n",
       "      <th>day_cos</th>\n",
       "    </tr>\n",
       "  </thead>\n",
       "  <tbody>\n",
       "    <tr>\n",
       "      <td>0</td>\n",
       "      <td>2009-01-01</td>\n",
       "      <td>4</td>\n",
       "      <td>0.691208</td>\n",
       "      <td>1.575298</td>\n",
       "      <td>0.135801</td>\n",
       "      <td>1.655518</td>\n",
       "      <td>1.214537</td>\n",
       "      <td>11</td>\n",
       "      <td>0.534126</td>\n",
       "      <td>1</td>\n",
       "      <td>...</td>\n",
       "      <td>1.278186</td>\n",
       "      <td>1.563621</td>\n",
       "      <td>0</td>\n",
       "      <td>0</td>\n",
       "      <td>1</td>\n",
       "      <td>1</td>\n",
       "      <td>5.000000e-01</td>\n",
       "      <td>0.866025</td>\n",
       "      <td>0.017213</td>\n",
       "      <td>0.999852</td>\n",
       "    </tr>\n",
       "    <tr>\n",
       "      <td>1</td>\n",
       "      <td>2009-01-02</td>\n",
       "      <td>4</td>\n",
       "      <td>0.769131</td>\n",
       "      <td>0.671504</td>\n",
       "      <td>0.135801</td>\n",
       "      <td>2.099110</td>\n",
       "      <td>1.400800</td>\n",
       "      <td>8</td>\n",
       "      <td>-0.290764</td>\n",
       "      <td>10</td>\n",
       "      <td>...</td>\n",
       "      <td>0.318980</td>\n",
       "      <td>0.627467</td>\n",
       "      <td>0</td>\n",
       "      <td>0</td>\n",
       "      <td>1</td>\n",
       "      <td>2</td>\n",
       "      <td>5.000000e-01</td>\n",
       "      <td>0.866025</td>\n",
       "      <td>0.034422</td>\n",
       "      <td>0.999407</td>\n",
       "    </tr>\n",
       "    <tr>\n",
       "      <td>2</td>\n",
       "      <td>2009-01-04</td>\n",
       "      <td>4</td>\n",
       "      <td>0.924976</td>\n",
       "      <td>1.919600</td>\n",
       "      <td>0.135801</td>\n",
       "      <td>1.360617</td>\n",
       "      <td>0.762183</td>\n",
       "      <td>5</td>\n",
       "      <td>0.384146</td>\n",
       "      <td>5</td>\n",
       "      <td>...</td>\n",
       "      <td>1.597921</td>\n",
       "      <td>1.783032</td>\n",
       "      <td>0</td>\n",
       "      <td>0</td>\n",
       "      <td>1</td>\n",
       "      <td>4</td>\n",
       "      <td>5.000000e-01</td>\n",
       "      <td>0.866025</td>\n",
       "      <td>0.068802</td>\n",
       "      <td>0.997630</td>\n",
       "    </tr>\n",
       "    <tr>\n",
       "      <td>3</td>\n",
       "      <td>2009-01-05</td>\n",
       "      <td>4</td>\n",
       "      <td>1.314588</td>\n",
       "      <td>2.034368</td>\n",
       "      <td>0.135801</td>\n",
       "      <td>1.528352</td>\n",
       "      <td>1.187928</td>\n",
       "      <td>14</td>\n",
       "      <td>-0.740704</td>\n",
       "      <td>14</td>\n",
       "      <td>...</td>\n",
       "      <td>1.658823</td>\n",
       "      <td>1.885424</td>\n",
       "      <td>0</td>\n",
       "      <td>0</td>\n",
       "      <td>1</td>\n",
       "      <td>5</td>\n",
       "      <td>5.000000e-01</td>\n",
       "      <td>0.866025</td>\n",
       "      <td>0.085965</td>\n",
       "      <td>0.996298</td>\n",
       "    </tr>\n",
       "    <tr>\n",
       "      <td>4</td>\n",
       "      <td>2009-01-06</td>\n",
       "      <td>4</td>\n",
       "      <td>1.673032</td>\n",
       "      <td>2.407362</td>\n",
       "      <td>0.135801</td>\n",
       "      <td>1.490750</td>\n",
       "      <td>0.176784</td>\n",
       "      <td>14</td>\n",
       "      <td>-0.440744</td>\n",
       "      <td>7</td>\n",
       "      <td>...</td>\n",
       "      <td>2.343970</td>\n",
       "      <td>2.177972</td>\n",
       "      <td>0</td>\n",
       "      <td>0</td>\n",
       "      <td>1</td>\n",
       "      <td>6</td>\n",
       "      <td>5.000000e-01</td>\n",
       "      <td>0.866025</td>\n",
       "      <td>0.103102</td>\n",
       "      <td>0.994671</td>\n",
       "    </tr>\n",
       "    <tr>\n",
       "      <td>...</td>\n",
       "      <td>...</td>\n",
       "      <td>...</td>\n",
       "      <td>...</td>\n",
       "      <td>...</td>\n",
       "      <td>...</td>\n",
       "      <td>...</td>\n",
       "      <td>...</td>\n",
       "      <td>...</td>\n",
       "      <td>...</td>\n",
       "      <td>...</td>\n",
       "      <td>...</td>\n",
       "      <td>...</td>\n",
       "      <td>...</td>\n",
       "      <td>...</td>\n",
       "      <td>...</td>\n",
       "      <td>...</td>\n",
       "      <td>...</td>\n",
       "      <td>...</td>\n",
       "      <td>...</td>\n",
       "      <td>...</td>\n",
       "      <td>...</td>\n",
       "    </tr>\n",
       "    <tr>\n",
       "      <td>56415</td>\n",
       "      <td>2017-06-20</td>\n",
       "      <td>6</td>\n",
       "      <td>0.909391</td>\n",
       "      <td>1.317071</td>\n",
       "      <td>0.135801</td>\n",
       "      <td>-1.318198</td>\n",
       "      <td>0.868619</td>\n",
       "      <td>1</td>\n",
       "      <td>-0.440744</td>\n",
       "      <td>9</td>\n",
       "      <td>...</td>\n",
       "      <td>0.958451</td>\n",
       "      <td>1.402719</td>\n",
       "      <td>0</td>\n",
       "      <td>0</td>\n",
       "      <td>6</td>\n",
       "      <td>20</td>\n",
       "      <td>1.224647e-16</td>\n",
       "      <td>-1.000000</td>\n",
       "      <td>0.337523</td>\n",
       "      <td>0.941317</td>\n",
       "    </tr>\n",
       "    <tr>\n",
       "      <td>56416</td>\n",
       "      <td>2017-06-21</td>\n",
       "      <td>6</td>\n",
       "      <td>1.205497</td>\n",
       "      <td>1.202303</td>\n",
       "      <td>0.135801</td>\n",
       "      <td>-0.178193</td>\n",
       "      <td>0.230002</td>\n",
       "      <td>0</td>\n",
       "      <td>-0.290764</td>\n",
       "      <td>9</td>\n",
       "      <td>...</td>\n",
       "      <td>1.004127</td>\n",
       "      <td>1.358837</td>\n",
       "      <td>0</td>\n",
       "      <td>0</td>\n",
       "      <td>6</td>\n",
       "      <td>21</td>\n",
       "      <td>1.224647e-16</td>\n",
       "      <td>-1.000000</td>\n",
       "      <td>0.353676</td>\n",
       "      <td>0.935368</td>\n",
       "    </tr>\n",
       "    <tr>\n",
       "      <td>56417</td>\n",
       "      <td>2017-06-22</td>\n",
       "      <td>6</td>\n",
       "      <td>1.127574</td>\n",
       "      <td>1.230995</td>\n",
       "      <td>0.135801</td>\n",
       "      <td>-2.311520</td>\n",
       "      <td>0.868619</td>\n",
       "      <td>0</td>\n",
       "      <td>-0.590724</td>\n",
       "      <td>0</td>\n",
       "      <td>...</td>\n",
       "      <td>1.004127</td>\n",
       "      <td>1.373465</td>\n",
       "      <td>0</td>\n",
       "      <td>0</td>\n",
       "      <td>6</td>\n",
       "      <td>22</td>\n",
       "      <td>1.224647e-16</td>\n",
       "      <td>-1.000000</td>\n",
       "      <td>0.369725</td>\n",
       "      <td>0.929141</td>\n",
       "    </tr>\n",
       "    <tr>\n",
       "      <td>56418</td>\n",
       "      <td>2017-06-23</td>\n",
       "      <td>6</td>\n",
       "      <td>0.940560</td>\n",
       "      <td>1.087536</td>\n",
       "      <td>0.135801</td>\n",
       "      <td>-1.096055</td>\n",
       "      <td>0.762183</td>\n",
       "      <td>2</td>\n",
       "      <td>-1.115654</td>\n",
       "      <td>9</td>\n",
       "      <td>...</td>\n",
       "      <td>1.004127</td>\n",
       "      <td>0.949270</td>\n",
       "      <td>0</td>\n",
       "      <td>0</td>\n",
       "      <td>6</td>\n",
       "      <td>23</td>\n",
       "      <td>1.224647e-16</td>\n",
       "      <td>-1.000000</td>\n",
       "      <td>0.385663</td>\n",
       "      <td>0.922640</td>\n",
       "    </tr>\n",
       "    <tr>\n",
       "      <td>56419</td>\n",
       "      <td>2017-06-24</td>\n",
       "      <td>6</td>\n",
       "      <td>1.049652</td>\n",
       "      <td>1.073190</td>\n",
       "      <td>0.135801</td>\n",
       "      <td>-2.311520</td>\n",
       "      <td>0.788792</td>\n",
       "      <td>1</td>\n",
       "      <td>-0.815694</td>\n",
       "      <td>1</td>\n",
       "      <td>...</td>\n",
       "      <td>1.095480</td>\n",
       "      <td>1.212563</td>\n",
       "      <td>0</td>\n",
       "      <td>0</td>\n",
       "      <td>6</td>\n",
       "      <td>24</td>\n",
       "      <td>1.224647e-16</td>\n",
       "      <td>-1.000000</td>\n",
       "      <td>0.401488</td>\n",
       "      <td>0.915864</td>\n",
       "    </tr>\n",
       "  </tbody>\n",
       "</table>\n",
       "<p>56420 rows × 29 columns</p>\n",
       "</div>"
      ],
      "text/plain": [
       "            Date  Location   MinTemp   MaxTemp  Rainfall  Evaporation  \\\n",
       "0     2009-01-01         4  0.691208  1.575298  0.135801     1.655518   \n",
       "1     2009-01-02         4  0.769131  0.671504  0.135801     2.099110   \n",
       "2     2009-01-04         4  0.924976  1.919600  0.135801     1.360617   \n",
       "3     2009-01-05         4  1.314588  2.034368  0.135801     1.528352   \n",
       "4     2009-01-06         4  1.673032  2.407362  0.135801     1.490750   \n",
       "...          ...       ...       ...       ...       ...          ...   \n",
       "56415 2017-06-20         6  0.909391  1.317071  0.135801    -1.318198   \n",
       "56416 2017-06-21         6  1.205497  1.202303  0.135801    -0.178193   \n",
       "56417 2017-06-22         6  1.127574  1.230995  0.135801    -2.311520   \n",
       "56418 2017-06-23         6  0.940560  1.087536  0.135801    -1.096055   \n",
       "56419 2017-06-24         6  1.049652  1.073190  0.135801    -2.311520   \n",
       "\n",
       "       Sunshine  WindGustDir  WindGustSpeed  WindDir9am  ...   Temp9am  \\\n",
       "0      1.214537           11       0.534126           1  ...  1.278186   \n",
       "1      1.400800            8      -0.290764          10  ...  0.318980   \n",
       "2      0.762183            5       0.384146           5  ...  1.597921   \n",
       "3      1.187928           14      -0.740704          14  ...  1.658823   \n",
       "4      0.176784           14      -0.440744           7  ...  2.343970   \n",
       "...         ...          ...            ...         ...  ...       ...   \n",
       "56415  0.868619            1      -0.440744           9  ...  0.958451   \n",
       "56416  0.230002            0      -0.290764           9  ...  1.004127   \n",
       "56417  0.868619            0      -0.590724           0  ...  1.004127   \n",
       "56418  0.762183            2      -1.115654           9  ...  1.004127   \n",
       "56419  0.788792            1      -0.815694           1  ...  1.095480   \n",
       "\n",
       "        Temp3pm  RainToday  RainTomorrow  month  day     month_sin  month_cos  \\\n",
       "0      1.563621          0             0      1    1  5.000000e-01   0.866025   \n",
       "1      0.627467          0             0      1    2  5.000000e-01   0.866025   \n",
       "2      1.783032          0             0      1    4  5.000000e-01   0.866025   \n",
       "3      1.885424          0             0      1    5  5.000000e-01   0.866025   \n",
       "4      2.177972          0             0      1    6  5.000000e-01   0.866025   \n",
       "...         ...        ...           ...    ...  ...           ...        ...   \n",
       "56415  1.402719          0             0      6   20  1.224647e-16  -1.000000   \n",
       "56416  1.358837          0             0      6   21  1.224647e-16  -1.000000   \n",
       "56417  1.373465          0             0      6   22  1.224647e-16  -1.000000   \n",
       "56418  0.949270          0             0      6   23  1.224647e-16  -1.000000   \n",
       "56419  1.212563          0             0      6   24  1.224647e-16  -1.000000   \n",
       "\n",
       "        day_sin   day_cos  \n",
       "0      0.017213  0.999852  \n",
       "1      0.034422  0.999407  \n",
       "2      0.068802  0.997630  \n",
       "3      0.085965  0.996298  \n",
       "4      0.103102  0.994671  \n",
       "...         ...       ...  \n",
       "56415  0.337523  0.941317  \n",
       "56416  0.353676  0.935368  \n",
       "56417  0.369725  0.929141  \n",
       "56418  0.385663  0.922640  \n",
       "56419  0.401488  0.915864  \n",
       "\n",
       "[56420 rows x 29 columns]"
      ]
     },
     "execution_count": 146,
     "metadata": {},
     "output_type": "execute_result"
    }
   ],
   "source": [
    "df"
   ]
  },
  {
   "cell_type": "code",
   "execution_count": 148,
   "metadata": {},
   "outputs": [],
   "source": [
    "# Store data \n",
    "with open('data/data_engi_v1.pickle', 'wb') as handle:\n",
    "    dump(df, handle)"
   ]
  },
  {
   "cell_type": "code",
   "execution_count": null,
   "metadata": {},
   "outputs": [],
   "source": []
  }
 ],
 "metadata": {
  "kernelspec": {
   "display_name": "Python 3",
   "language": "python",
   "name": "python3"
  },
  "language_info": {
   "codemirror_mode": {
    "name": "ipython",
    "version": 3
   },
   "file_extension": ".py",
   "mimetype": "text/x-python",
   "name": "python",
   "nbconvert_exporter": "python",
   "pygments_lexer": "ipython3",
   "version": "3.7.4"
  }
 },
 "nbformat": 4,
 "nbformat_minor": 2
}
