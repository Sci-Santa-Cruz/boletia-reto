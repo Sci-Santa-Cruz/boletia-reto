{
 "cells": [
  {
   "cell_type": "markdown",
   "metadata": {},
   "source": [
    "<div class=\"jumbotron\">\n",
    "  <h1><i class=\"fa fa-bar-chart\" aria-hidden=\"true\"></i>Clase prototipo</h1>\n",
    "  <p></p>\n",
    "</div>"
   ]
  },
  {
   "cell_type": "markdown",
   "metadata": {},
   "source": [
    "El prototipo es una clase en código python con el modelo seleccionado del notebook 5.\n",
    "El cual incluye los métodos para \n",
    "\n",
    "- Lectura de los datos de entrenamiento (csv)\n",
    "- Validar datos y definir variables de clase (target, nombre de features, ...)\n",
    "- Preprocesar los datos de entrenamiento(segun el notebook 4)\n",
    "- Almacenar modelos de pre procesamiento (z-score , label coding , one hot coding)\n",
    "- Leer los modelos de pre procesamientO \n",
    "- Preprocesar datos para nuevos casos (productivo)\n",
    "- Entrar modelo modelo(segun el notebook 5)\n",
    "- Guardar modelo en formato pickle\n",
    "- Cargar el modelo entrenado\n",
    "- run : funciones pricipal el cual es el pipeline del proceso completo(load, pre procesado, entraniento,...)\n",
    "- Predicir nuevos casos \n"
   ]
  },
  {
   "cell_type": "code",
   "execution_count": 8,
   "metadata": {},
   "outputs": [],
   "source": [
    "# Fuera del alacance por tiempo"
   ]
  },
  {
   "cell_type": "code",
   "execution_count": 7,
   "metadata": {},
   "outputs": [],
   "source": [
    "class Clima:\n",
    "\n",
    "    def __init__(self):\n",
    "        pass\n",
    "\n",
    "    def load_csv(self, path_csv):\n",
    "            '''\n",
    "            Metodo de carga de archvios CVS, este archivo contiene las caracteristicas y variable de clase\n",
    "\n",
    "            input\n",
    "                path_csv: ruta absoluta del archivos cvs\n",
    "\n",
    "            output \n",
    "                status: estado de la carga del archivo: ok,failed\n",
    "            '''\n",
    "\n",
    "            pass\n",
    "    \n",
    "    \n",
    "    def validar_datos(self):\n",
    "        pass\n",
    "    \n",
    "    \n",
    "    def train_model(self):\n",
    "        pass\n",
    "    \n",
    "    def predict(self, features):\n",
    "        pass\n",
    "    \n",
    "    def save_model(self):\n",
    "        pass\n",
    "    \n",
    "    def load_model(self,path_model= None):\n",
    "        pass\n",
    "    \n",
    "    def pre_processing(self):\n",
    "        pass\n",
    "    \n",
    "    def save_model_pre_processing(self, path_model_processing = None):\n",
    "        pass\n",
    "    \n",
    "    def load_model_pre_processing(self, path_model_processing = None):\n",
    "        pass\n",
    "    \n",
    "    def run(self):\n",
    "        pass"
   ]
  },
  {
   "cell_type": "code",
   "execution_count": null,
   "metadata": {},
   "outputs": [],
   "source": []
  }
 ],
 "metadata": {
  "kernelspec": {
   "display_name": "Python 3",
   "language": "python",
   "name": "python3"
  },
  "language_info": {
   "codemirror_mode": {
    "name": "ipython",
    "version": 3
   },
   "file_extension": ".py",
   "mimetype": "text/x-python",
   "name": "python",
   "nbconvert_exporter": "python",
   "pygments_lexer": "ipython3",
   "version": "3.7.4"
  }
 },
 "nbformat": 4,
 "nbformat_minor": 2
}
