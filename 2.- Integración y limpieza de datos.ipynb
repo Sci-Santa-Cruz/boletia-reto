{
 "cells": [
  {
   "cell_type": "markdown",
   "metadata": {},
   "source": [
    "\n",
    "<div class=\"jumbotron\">\n",
    "  <h1><i class=\"fa fa-bar-chart\" aria-hidden=\"true\"></i> Integracción y limpieza</h1>\n",
    "  <p></p>\n",
    "</div>"
   ]
  },
  {
   "cell_type": "code",
   "execution_count": 2,
   "metadata": {},
   "outputs": [],
   "source": [
    "from pandas import read_csv\n",
    "from pandas import to_datetime\n",
    "from pickle import dump\n",
    "import datetime"
   ]
  },
  {
   "cell_type": "markdown",
   "metadata": {},
   "source": [
    "## Integración "
   ]
  },
  {
   "cell_type": "code",
   "execution_count": 3,
   "metadata": {},
   "outputs": [],
   "source": [
    "# Esta face se omite debido a que sólo es un archivos CSV"
   ]
  },
  {
   "cell_type": "markdown",
   "metadata": {},
   "source": [
    "## Carga datos"
   ]
  },
  {
   "cell_type": "code",
   "execution_count": 4,
   "metadata": {},
   "outputs": [
    {
     "name": "stderr",
     "output_type": "stream",
     "text": [
      "b'Skipping line 3205: expected 4 fields, saw 7\\nSkipping line 15279: expected 4 fields, saw 7\\nSkipping line 18424: expected 4 fields, saw 7\\nSkipping line 21726: expected 4 fields, saw 7\\nSkipping line 35713: expected 4 fields, saw 7\\nSkipping line 36283: expected 4 fields, saw 7\\nSkipping line 38556: expected 4 fields, saw 7\\nSkipping line 39669: expected 4 fields, saw 7\\nSkipping line 44415: expected 4 fields, saw 7\\nSkipping line 46079: expected 4 fields, saw 7\\nSkipping line 46303: expected 4 fields, saw 7\\nSkipping line 48735: expected 4 fields, saw 7\\nSkipping line 49717: expected 4 fields, saw 7\\nSkipping line 57763: expected 4 fields, saw 7\\nSkipping line 60274: expected 4 fields, saw 7\\nSkipping line 60401: expected 4 fields, saw 7\\nSkipping line 62804: expected 4 fields, saw 7\\nSkipping line 63521: expected 4 fields, saw 7\\nSkipping line 66142: expected 4 fields, saw 7\\nSkipping line 71158: expected 4 fields, saw 7\\nSkipping line 73160: expected 4 fields, saw 7\\nSkipping line 77847: expected 4 fields, saw 7\\nSkipping line 79510: expected 4 fields, saw 7\\nSkipping line 79999: expected 4 fields, saw 7\\nSkipping line 82983: expected 4 fields, saw 7\\nSkipping line 86586: expected 4 fields, saw 7\\nSkipping line 89362: expected 4 fields, saw 7\\nSkipping line 91797: expected 4 fields, saw 7\\nSkipping line 93233: expected 4 fields, saw 7\\nSkipping line 98031: expected 4 fields, saw 7\\nSkipping line 99787: expected 4 fields, saw 7\\nSkipping line 101012: expected 4 fields, saw 7\\nSkipping line 101060: expected 4 fields, saw 7\\nSkipping line 104430: expected 4 fields, saw 7\\n'\n"
     ]
    }
   ],
   "source": [
    "df = read_csv('Data/dataset-evento-caso.csv', error_bad_lines=False) "
   ]
  },
  {
   "cell_type": "code",
   "execution_count": 5,
   "metadata": {},
   "outputs": [],
   "source": [
    "errores = 'Skipping line 3205: expected 4 fields, saw 7\\nSkipping line 15279: expected 4 fields, saw 7\\nSkipping line 18424: expected 4 fields, saw 7\\nSkipping line 21726: expected 4 fields, saw 7\\nSkipping line 35713: expected 4 fields, saw 7\\nSkipping line 36283: expected 4 fields, saw 7\\nSkipping line 38556: expected 4 fields, saw 7\\nSkipping line 39669: expected 4 fields, saw 7\\nSkipping line 44415: expected 4 fields, saw 7\\nSkipping line 46079: expected 4 fields, saw 7\\nSkipping line 46303: expected 4 fields, saw 7\\nSkipping line 48735: expected 4 fields, saw 7\\nSkipping line 49717: expected 4 fields, saw 7\\nSkipping line 57763: expected 4 fields, saw 7\\nSkipping line 60274: expected 4 fields, saw 7\\nSkipping line 60401: expected 4 fields, saw 7\\nSkipping line 62804: expected 4 fields, saw 7\\nSkipping line 63521: expected 4 fields, saw 7\\nSkipping line 66142: expected 4 fields, saw 7\\nSkipping line 71158: expected 4 fields, saw 7\\nSkipping line 73160: expected 4 fields, saw 7\\nSkipping line 77847: expected 4 fields, saw 7\\nSkipping line 79510: expected 4 fields, saw 7\\nSkipping line 79999: expected 4 fields, saw 7\\nSkipping line 82983: expected 4 fields, saw 7\\nSkipping line 86586: expected 4 fields, saw 7\\nSkipping line 89362: expected 4 fields, saw 7\\nSkipping line 91797: expected 4 fields, saw 7\\nSkipping line 93233: expected 4 fields, saw 7\\nSkipping line 98031: expected 4 fields, saw 7\\nSkipping line 99787: expected 4 fields, saw 7\\nSkipping line 101012: expected 4 fields, saw 7\\nSkipping line 101060: expected 4 fields, saw 7\\nSkipping line 104430: expected 4 fields, saw 7\\n'"
   ]
  },
  {
   "cell_type": "code",
   "execution_count": 6,
   "metadata": {},
   "outputs": [
    {
     "name": "stdout",
     "output_type": "stream",
     "text": [
      "Existen  35 datos incorrectos\n"
     ]
    }
   ],
   "source": [
    "print(\"Existen \",len(errores.split('\\n')),\"datos incorrectos\")"
   ]
  },
  {
   "cell_type": "markdown",
   "metadata": {},
   "source": [
    "<div class=\"alert alert-info\" role=\"alert\">\n",
    "<ul>\n",
    "<li> Existe error en los datos. 35 renglones tiene un caracter ' (comilla simple) que no se cierra.\n",
    "<li> Los datos reprensetan menos el 1% , asi que se omite la correción del error\n",
    "<li> Los datos se descartan   \n",
    "</div>"
   ]
  },
  {
   "cell_type": "code",
   "execution_count": 7,
   "metadata": {},
   "outputs": [
    {
     "data": {
      "text/html": [
       "<div>\n",
       "<style scoped>\n",
       "    .dataframe tbody tr th:only-of-type {\n",
       "        vertical-align: middle;\n",
       "    }\n",
       "\n",
       "    .dataframe tbody tr th {\n",
       "        vertical-align: top;\n",
       "    }\n",
       "\n",
       "    .dataframe thead th {\n",
       "        text-align: right;\n",
       "    }\n",
       "</style>\n",
       "<table border=\"1\" class=\"dataframe\">\n",
       "  <thead>\n",
       "    <tr style=\"text-align: right;\">\n",
       "      <th></th>\n",
       "      <th>Event</th>\n",
       "      <th>Epoch</th>\n",
       "      <th>Nickname</th>\n",
       "      <th>Message</th>\n",
       "    </tr>\n",
       "  </thead>\n",
       "  <tbody>\n",
       "    <tr>\n",
       "      <td>0</td>\n",
       "      <td>evento-preba</td>\n",
       "      <td>1631667946940</td>\n",
       "      <td>Camila@user#7893749|</td>\n",
       "      <td>'En el telefono casi no se trabaaa'</td>\n",
       "    </tr>\n",
       "    <tr>\n",
       "      <td>1</td>\n",
       "      <td>evento-preba</td>\n",
       "      <td>1631667132732</td>\n",
       "      <td>KelineGar@user#7022313|</td>\n",
       "      <td>'si hacen un grupo de chat, me agregan 899 899...</td>\n",
       "    </tr>\n",
       "    <tr>\n",
       "      <td>2</td>\n",
       "      <td>evento-preba</td>\n",
       "      <td>1631670291603</td>\n",
       "      <td>jaqie@user#0225576|</td>\n",
       "      <td>'ya minimo me aparece al baner jajaj'</td>\n",
       "    </tr>\n",
       "    <tr>\n",
       "      <td>3</td>\n",
       "      <td>evento-preba</td>\n",
       "      <td>1631668249860</td>\n",
       "      <td>chika@user#7905795|</td>\n",
       "      <td>'chikaaaaa'</td>\n",
       "    </tr>\n",
       "    <tr>\n",
       "      <td>4</td>\n",
       "      <td>evento-preba</td>\n",
       "      <td>1631673203385</td>\n",
       "      <td>Magaly@user#3150738|</td>\n",
       "      <td>'Eres la mejor Arti'</td>\n",
       "    </tr>\n",
       "    <tr>\n",
       "      <td>...</td>\n",
       "      <td>...</td>\n",
       "      <td>...</td>\n",
       "      <td>...</td>\n",
       "      <td>...</td>\n",
       "    </tr>\n",
       "    <tr>\n",
       "      <td>105166</td>\n",
       "      <td>evento-preba</td>\n",
       "      <td>1631669483968</td>\n",
       "      <td>Selene@user#9438343|</td>\n",
       "      <td>'Si igual me parece 0 persona'</td>\n",
       "    </tr>\n",
       "    <tr>\n",
       "      <td>105167</td>\n",
       "      <td>evento-preba</td>\n",
       "      <td>1631668178763</td>\n",
       "      <td>ELI7@user#8144981|</td>\n",
       "      <td>'NO SE VE'</td>\n",
       "    </tr>\n",
       "    <tr>\n",
       "      <td>105168</td>\n",
       "      <td>evento-preba</td>\n",
       "      <td>1631671090678</td>\n",
       "      <td>Nill@user#0993182|</td>\n",
       "      <td>'Escríbeme'</td>\n",
       "    </tr>\n",
       "    <tr>\n",
       "      <td>105169</td>\n",
       "      <td>evento-preba</td>\n",
       "      <td>1631670023478</td>\n",
       "      <td>amanda@user#9864459|</td>\n",
       "      <td>'a mi me ha sacado 3 veces'</td>\n",
       "    </tr>\n",
       "    <tr>\n",
       "      <td>105170</td>\n",
       "      <td>evento-preba</td>\n",
       "      <td>1631668215413</td>\n",
       "      <td>KSCORONA@user#8122853|</td>\n",
       "      <td>'Que pedo'</td>\n",
       "    </tr>\n",
       "  </tbody>\n",
       "</table>\n",
       "<p>105171 rows × 4 columns</p>\n",
       "</div>"
      ],
      "text/plain": [
       "               Event          Epoch                 Nickname  \\\n",
       "0       evento-preba  1631667946940     Camila@user#7893749|   \n",
       "1       evento-preba  1631667132732  KelineGar@user#7022313|   \n",
       "2       evento-preba  1631670291603      jaqie@user#0225576|   \n",
       "3       evento-preba  1631668249860      chika@user#7905795|   \n",
       "4       evento-preba  1631673203385     Magaly@user#3150738|   \n",
       "...              ...            ...                      ...   \n",
       "105166  evento-preba  1631669483968     Selene@user#9438343|   \n",
       "105167  evento-preba  1631668178763       ELI7@user#8144981|   \n",
       "105168  evento-preba  1631671090678       Nill@user#0993182|   \n",
       "105169  evento-preba  1631670023478     amanda@user#9864459|   \n",
       "105170  evento-preba  1631668215413   KSCORONA@user#8122853|   \n",
       "\n",
       "                                                  Message  \n",
       "0                     'En el telefono casi no se trabaaa'  \n",
       "1       'si hacen un grupo de chat, me agregan 899 899...  \n",
       "2                   'ya minimo me aparece al baner jajaj'  \n",
       "3                                             'chikaaaaa'  \n",
       "4                                    'Eres la mejor Arti'  \n",
       "...                                                   ...  \n",
       "105166                     'Si igual me parece 0 persona'  \n",
       "105167                                         'NO SE VE'  \n",
       "105168                                        'Escríbeme'  \n",
       "105169                        'a mi me ha sacado 3 veces'  \n",
       "105170                                         'Que pedo'  \n",
       "\n",
       "[105171 rows x 4 columns]"
      ]
     },
     "execution_count": 7,
     "metadata": {},
     "output_type": "execute_result"
    }
   ],
   "source": [
    "df"
   ]
  },
  {
   "cell_type": "code",
   "execution_count": 8,
   "metadata": {},
   "outputs": [
    {
     "data": {
      "text/plain": [
       "58298"
      ]
     },
     "execution_count": 8,
     "metadata": {},
     "output_type": "execute_result"
    }
   ],
   "source": [
    "df.Nickname.nunique()"
   ]
  },
  {
   "cell_type": "markdown",
   "metadata": {},
   "source": [
    "### Dimensiones del dataframe "
   ]
  },
  {
   "cell_type": "code",
   "execution_count": 135,
   "metadata": {},
   "outputs": [
    {
     "data": {
      "text/plain": [
       "(105171, 4)"
      ]
     },
     "execution_count": 135,
     "metadata": {},
     "output_type": "execute_result"
    }
   ],
   "source": [
    "df.shape"
   ]
  },
  {
   "cell_type": "markdown",
   "metadata": {},
   "source": [
    "### Features "
   ]
  },
  {
   "cell_type": "code",
   "execution_count": 136,
   "metadata": {},
   "outputs": [
    {
     "data": {
      "text/plain": [
       "Index(['Event', 'Epoch', 'Nickname', 'Message'], dtype='object')"
      ]
     },
     "execution_count": 136,
     "metadata": {},
     "output_type": "execute_result"
    }
   ],
   "source": [
    "df.columns"
   ]
  },
  {
   "cell_type": "markdown",
   "metadata": {},
   "source": [
    "## Valores nulos o faltantes"
   ]
  },
  {
   "cell_type": "code",
   "execution_count": 137,
   "metadata": {},
   "outputs": [
    {
     "data": {
      "text/plain": [
       "Event       0\n",
       "Epoch       0\n",
       "Nickname    0\n",
       "Message     0\n",
       "dtype: int64"
      ]
     },
     "execution_count": 137,
     "metadata": {},
     "output_type": "execute_result"
    }
   ],
   "source": [
    "df.isnull().sum()"
   ]
  },
  {
   "cell_type": "markdown",
   "metadata": {},
   "source": [
    "### Valores nulos como porcentaje "
   ]
  },
  {
   "cell_type": "code",
   "execution_count": 138,
   "metadata": {},
   "outputs": [
    {
     "data": {
      "text/plain": [
       "Message     0.0\n",
       "Nickname    0.0\n",
       "Epoch       0.0\n",
       "Event       0.0\n",
       "dtype: float64"
      ]
     },
     "execution_count": 138,
     "metadata": {},
     "output_type": "execute_result"
    }
   ],
   "source": [
    "((df.isnull().sum() / len(df))*100).sort_values(ascending = False)"
   ]
  },
  {
   "cell_type": "markdown",
   "metadata": {},
   "source": [
    "<div class=\"alert alert-info\" role=\"alert\">\n",
    "<ul>\n",
    "<li> No existen datos faltantes\n",
    "    \n",
    "</ul>\n",
    "</div>"
   ]
  },
  {
   "cell_type": "markdown",
   "metadata": {},
   "source": [
    "### Eliminar datos nulos"
   ]
  },
  {
   "cell_type": "code",
   "execution_count": 139,
   "metadata": {},
   "outputs": [],
   "source": [
    "# No aplica"
   ]
  },
  {
   "cell_type": "markdown",
   "metadata": {},
   "source": [
    "### Verificar datos "
   ]
  },
  {
   "cell_type": "code",
   "execution_count": 140,
   "metadata": {},
   "outputs": [
    {
     "name": "stdout",
     "output_type": "stream",
     "text": [
      "<class 'pandas.core.frame.DataFrame'>\n",
      "RangeIndex: 105171 entries, 0 to 105170\n",
      "Data columns (total 4 columns):\n",
      "Event       105171 non-null object\n",
      "Epoch       105171 non-null int64\n",
      "Nickname    105171 non-null object\n",
      "Message     105171 non-null object\n",
      "dtypes: int64(1), object(3)\n",
      "memory usage: 3.2+ MB\n"
     ]
    }
   ],
   "source": [
    "df.info()"
   ]
  },
  {
   "cell_type": "markdown",
   "metadata": {},
   "source": [
    "## Transformar columnas datetime"
   ]
  },
  {
   "cell_type": "markdown",
   "metadata": {},
   "source": [
    "### Variable `Epoch`"
   ]
  },
  {
   "cell_type": "code",
   "execution_count": 168,
   "metadata": {},
   "outputs": [],
   "source": [
    "df.Epoch = df.Epoch.apply(lambda timestamp: datetime.datetime.fromtimestamp(int(timestamp)/1000))"
   ]
  },
  {
   "cell_type": "markdown",
   "metadata": {},
   "source": [
    "## Obtener el nombre de las variables categorical"
   ]
  },
  {
   "cell_type": "code",
   "execution_count": 143,
   "metadata": {},
   "outputs": [],
   "source": [
    "# No aplica"
   ]
  },
  {
   "cell_type": "code",
   "execution_count": 144,
   "metadata": {},
   "outputs": [],
   "source": [
    "# "
   ]
  },
  {
   "cell_type": "markdown",
   "metadata": {},
   "source": [
    "## Marcar la variable objetivo"
   ]
  },
  {
   "cell_type": "code",
   "execution_count": 145,
   "metadata": {},
   "outputs": [],
   "source": [
    "# No aplica"
   ]
  },
  {
   "cell_type": "code",
   "execution_count": 146,
   "metadata": {},
   "outputs": [],
   "source": [
    "#label = ''"
   ]
  },
  {
   "cell_type": "markdown",
   "metadata": {},
   "source": [
    "## Convertir las variables a tipo `category`"
   ]
  },
  {
   "cell_type": "code",
   "execution_count": 147,
   "metadata": {},
   "outputs": [],
   "source": [
    "# No aplica"
   ]
  },
  {
   "cell_type": "code",
   "execution_count": 148,
   "metadata": {},
   "outputs": [],
   "source": [
    "#for i in range(len(cat_col)):\n",
    "#    df[cat_col[i]] = df[cat_col[i]].astype('category')"
   ]
  },
  {
   "cell_type": "markdown",
   "metadata": {},
   "source": [
    "## Convertir la variable objetivo  a tipo `category`"
   ]
  },
  {
   "cell_type": "code",
   "execution_count": 149,
   "metadata": {},
   "outputs": [],
   "source": [
    "# No aplica"
   ]
  },
  {
   "cell_type": "code",
   "execution_count": 150,
   "metadata": {},
   "outputs": [],
   "source": [
    "#df[label]= df[label].astype('category')"
   ]
  },
  {
   "cell_type": "code",
   "execution_count": 151,
   "metadata": {},
   "outputs": [
    {
     "data": {
      "text/plain": [
       "Event       object\n",
       "Epoch        int64\n",
       "Nickname    object\n",
       "Message     object\n",
       "dtype: object"
      ]
     },
     "execution_count": 151,
     "metadata": {},
     "output_type": "execute_result"
    }
   ],
   "source": [
    "df.dtypes"
   ]
  },
  {
   "cell_type": "markdown",
   "metadata": {},
   "source": [
    "## Lipieza de datos tipo texto "
   ]
  },
  {
   "cell_type": "markdown",
   "metadata": {},
   "source": [
    "### Elimanar comillas"
   ]
  },
  {
   "cell_type": "code",
   "execution_count": 152,
   "metadata": {},
   "outputs": [],
   "source": [
    "df.Message = df.Message.apply(lambda x: x.strip(\"'\"))"
   ]
  },
  {
   "cell_type": "markdown",
   "metadata": {},
   "source": [
    "### Tokenizar Nickname"
   ]
  },
  {
   "cell_type": "code",
   "execution_count": 153,
   "metadata": {},
   "outputs": [],
   "source": [
    "df['mail'] = df.Nickname.apply(lambda x: x.split(\"#\")[0])\n",
    "df['id'] = df.Nickname.apply(lambda x: x.split(\"#\")[1])"
   ]
  },
  {
   "cell_type": "code",
   "execution_count": 154,
   "metadata": {},
   "outputs": [],
   "source": [
    "del df['Nickname']"
   ]
  },
  {
   "cell_type": "markdown",
   "metadata": {},
   "source": [
    "### Eliminar '|' de id"
   ]
  },
  {
   "cell_type": "code",
   "execution_count": 155,
   "metadata": {},
   "outputs": [],
   "source": [
    "df.id = df.id.apply(lambda x: x.strip(\"|\"))"
   ]
  },
  {
   "cell_type": "markdown",
   "metadata": {},
   "source": [
    "## Elimnar columnas supefluas"
   ]
  },
  {
   "cell_type": "code",
   "execution_count": 159,
   "metadata": {},
   "outputs": [],
   "source": [
    "del df['Event']"
   ]
  },
  {
   "cell_type": "markdown",
   "metadata": {},
   "source": [
    "## Vista final"
   ]
  },
  {
   "cell_type": "code",
   "execution_count": 169,
   "metadata": {},
   "outputs": [
    {
     "data": {
      "text/html": [
       "<div>\n",
       "<style scoped>\n",
       "    .dataframe tbody tr th:only-of-type {\n",
       "        vertical-align: middle;\n",
       "    }\n",
       "\n",
       "    .dataframe tbody tr th {\n",
       "        vertical-align: top;\n",
       "    }\n",
       "\n",
       "    .dataframe thead th {\n",
       "        text-align: right;\n",
       "    }\n",
       "</style>\n",
       "<table border=\"1\" class=\"dataframe\">\n",
       "  <thead>\n",
       "    <tr style=\"text-align: right;\">\n",
       "      <th></th>\n",
       "      <th>Epoch</th>\n",
       "      <th>Message</th>\n",
       "      <th>mail</th>\n",
       "      <th>id</th>\n",
       "    </tr>\n",
       "  </thead>\n",
       "  <tbody>\n",
       "    <tr>\n",
       "      <td>0</td>\n",
       "      <td>2021-09-14 20:05:46.940</td>\n",
       "      <td>En el telefono casi no se trabaaa</td>\n",
       "      <td>Camila@user</td>\n",
       "      <td>7893749</td>\n",
       "    </tr>\n",
       "    <tr>\n",
       "      <td>1</td>\n",
       "      <td>2021-09-14 19:52:12.732</td>\n",
       "      <td>si hacen un grupo de chat, me agregan 899 899 ...</td>\n",
       "      <td>KelineGar@user</td>\n",
       "      <td>7022313</td>\n",
       "    </tr>\n",
       "    <tr>\n",
       "      <td>2</td>\n",
       "      <td>2021-09-14 20:44:51.603</td>\n",
       "      <td>ya minimo me aparece al baner jajaj</td>\n",
       "      <td>jaqie@user</td>\n",
       "      <td>0225576</td>\n",
       "    </tr>\n",
       "    <tr>\n",
       "      <td>3</td>\n",
       "      <td>2021-09-14 20:10:49.860</td>\n",
       "      <td>chikaaaaa</td>\n",
       "      <td>chika@user</td>\n",
       "      <td>7905795</td>\n",
       "    </tr>\n",
       "    <tr>\n",
       "      <td>4</td>\n",
       "      <td>2021-09-14 21:33:23.385</td>\n",
       "      <td>Eres la mejor Arti</td>\n",
       "      <td>Magaly@user</td>\n",
       "      <td>3150738</td>\n",
       "    </tr>\n",
       "    <tr>\n",
       "      <td>...</td>\n",
       "      <td>...</td>\n",
       "      <td>...</td>\n",
       "      <td>...</td>\n",
       "      <td>...</td>\n",
       "    </tr>\n",
       "    <tr>\n",
       "      <td>105166</td>\n",
       "      <td>2021-09-14 20:31:23.968</td>\n",
       "      <td>Si igual me parece 0 persona</td>\n",
       "      <td>Selene@user</td>\n",
       "      <td>9438343</td>\n",
       "    </tr>\n",
       "    <tr>\n",
       "      <td>105167</td>\n",
       "      <td>2021-09-14 20:09:38.763</td>\n",
       "      <td>NO SE VE</td>\n",
       "      <td>ELI7@user</td>\n",
       "      <td>8144981</td>\n",
       "    </tr>\n",
       "    <tr>\n",
       "      <td>105168</td>\n",
       "      <td>2021-09-14 20:58:10.678</td>\n",
       "      <td>Escríbeme</td>\n",
       "      <td>Nill@user</td>\n",
       "      <td>0993182</td>\n",
       "    </tr>\n",
       "    <tr>\n",
       "      <td>105169</td>\n",
       "      <td>2021-09-14 20:40:23.478</td>\n",
       "      <td>a mi me ha sacado 3 veces</td>\n",
       "      <td>amanda@user</td>\n",
       "      <td>9864459</td>\n",
       "    </tr>\n",
       "    <tr>\n",
       "      <td>105170</td>\n",
       "      <td>2021-09-14 20:10:15.413</td>\n",
       "      <td>Que pedo</td>\n",
       "      <td>KSCORONA@user</td>\n",
       "      <td>8122853</td>\n",
       "    </tr>\n",
       "  </tbody>\n",
       "</table>\n",
       "<p>105171 rows × 4 columns</p>\n",
       "</div>"
      ],
      "text/plain": [
       "                         Epoch  \\\n",
       "0      2021-09-14 20:05:46.940   \n",
       "1      2021-09-14 19:52:12.732   \n",
       "2      2021-09-14 20:44:51.603   \n",
       "3      2021-09-14 20:10:49.860   \n",
       "4      2021-09-14 21:33:23.385   \n",
       "...                        ...   \n",
       "105166 2021-09-14 20:31:23.968   \n",
       "105167 2021-09-14 20:09:38.763   \n",
       "105168 2021-09-14 20:58:10.678   \n",
       "105169 2021-09-14 20:40:23.478   \n",
       "105170 2021-09-14 20:10:15.413   \n",
       "\n",
       "                                                  Message            mail  \\\n",
       "0                       En el telefono casi no se trabaaa     Camila@user   \n",
       "1       si hacen un grupo de chat, me agregan 899 899 ...  KelineGar@user   \n",
       "2                     ya minimo me aparece al baner jajaj      jaqie@user   \n",
       "3                                               chikaaaaa      chika@user   \n",
       "4                                      Eres la mejor Arti     Magaly@user   \n",
       "...                                                   ...             ...   \n",
       "105166                       Si igual me parece 0 persona     Selene@user   \n",
       "105167                                           NO SE VE       ELI7@user   \n",
       "105168                                          Escríbeme       Nill@user   \n",
       "105169                          a mi me ha sacado 3 veces     amanda@user   \n",
       "105170                                           Que pedo   KSCORONA@user   \n",
       "\n",
       "             id  \n",
       "0       7893749  \n",
       "1       7022313  \n",
       "2       0225576  \n",
       "3       7905795  \n",
       "4       3150738  \n",
       "...         ...  \n",
       "105166  9438343  \n",
       "105167  8144981  \n",
       "105168  0993182  \n",
       "105169  9864459  \n",
       "105170  8122853  \n",
       "\n",
       "[105171 rows x 4 columns]"
      ]
     },
     "execution_count": 169,
     "metadata": {},
     "output_type": "execute_result"
    }
   ],
   "source": [
    "df"
   ]
  },
  {
   "cell_type": "markdown",
   "metadata": {},
   "source": [
    "## Ordenar data frame utilizando algún criterio"
   ]
  },
  {
   "cell_type": "code",
   "execution_count": 173,
   "metadata": {},
   "outputs": [],
   "source": [
    "df.sort_values(by='Epoch', ascending=True, inplace = True)"
   ]
  },
  {
   "cell_type": "markdown",
   "metadata": {},
   "source": [
    "### Almacenar el `dataframe` en formato pickle "
   ]
  },
  {
   "cell_type": "code",
   "execution_count": 174,
   "metadata": {},
   "outputs": [],
   "source": [
    "# Store data \n",
    "with open('data/data_cleansing.pickle', 'wb') as handle:\n",
    "    dump(df, handle)"
   ]
  },
  {
   "cell_type": "code",
   "execution_count": null,
   "metadata": {},
   "outputs": [],
   "source": []
  }
 ],
 "metadata": {
  "kernelspec": {
   "display_name": "Python 3",
   "language": "python",
   "name": "python3"
  },
  "language_info": {
   "codemirror_mode": {
    "name": "ipython",
    "version": 3
   },
   "file_extension": ".py",
   "mimetype": "text/x-python",
   "name": "python",
   "nbconvert_exporter": "python",
   "pygments_lexer": "ipython3",
   "version": "3.7.4"
  }
 },
 "nbformat": 4,
 "nbformat_minor": 2
}
