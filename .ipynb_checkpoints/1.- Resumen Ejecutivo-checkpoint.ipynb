{
 "cells": [
  {
   "cell_type": "markdown",
   "metadata": {},
   "source": [
    "\n",
    "<div class=\"jumbotron\">\n",
    "  <h1><i class=\"fa fa-bar-chart\" aria-hidden=\"true\"></i> Resumen Ejecutivo</h1>\n",
    "  <p></p>\n",
    "</div>\n"
   ]
  },
  {
   "cell_type": "markdown",
   "metadata": {},
   "source": [
    "### Objetivo del documento\n",
    "El documento pretende mostrar los requerimientos, alcance y orden en que se debe vizualizar los notebooks.\n",
    "\n",
    "- Resumen ejecutivo\n",
    "- Integración y limpieza de datos\n",
    "- Exploración de datos\n",
    "- Ingeniería_de_características_V1\n",
    "- Modelado_V1\n",
    "- Prototipo\n",
    "- Resultados y concluciones"
   ]
  },
  {
   "cell_type": "markdown",
   "metadata": {},
   "source": [
    "### Objetivos\n",
    "\n",
    "Los objet"
   ]
  },
  {
   "cell_type": "markdown",
   "metadata": {},
   "source": [
    "### Descripción\n",
    "\n",
    "\n",
    "Se propone un sistema de predicción del clima, el cual indica si llovera mañana o no, de acuerdo a la información história y las condiciones ambientales actuales. \n"
   ]
  },
  {
   "cell_type": "markdown",
   "metadata": {},
   "source": [
    "### Objetivos Estratégicos\n",
    "\n",
    "- Fácil integración\n",
    "- Escalabilidad \n",
    "- Interpretabilidad\n"
   ]
  },
  {
   "cell_type": "markdown",
   "metadata": {},
   "source": [
    "### Alcance \n",
    "\n",
    "- Entendimiento del problema\n",
    "- Preparación de datos\n",
    "- Exploración de datos\n",
    "- Ingeniería de características \n",
    "- Experimentar con al menos 2 algoritmos de modelado de datos\n",
    "- Superar el .75 de accuracy\n",
    "- Seleccionar el modelo prototipo \n",
    "- Crear un clase prototipo en código python\n",
    "- Documentación del proceso de análisis y modelado de datos\n"
   ]
  },
  {
   "cell_type": "markdown",
   "metadata": {},
   "source": [
    "### Tecnologías\n",
    "\n",
    "- Python\n",
    "- Jupyter\n",
    "- MLFlow\n",
    "\n"
   ]
  },
  {
   "cell_type": "markdown",
   "metadata": {},
   "source": [
    "### Fechas \n",
    "\n",
    "- Fecha de inicio 03-08-2021 13:00\n",
    "- Fecha limite 05-08-2021 15:000\n"
   ]
  },
  {
   "cell_type": "markdown",
   "metadata": {},
   "source": [
    "### Contexto a alto nivel\n",
    "\n",
    "Creación de un sistema que permita predecir si lloverá el día siguiente utilizando una solución basada en modelado de datos (machine learning).\n",
    "Los datos climáticos con los que se generará dicho modelo corresponden a aproximadamente 10 años de observaciones meteorológicas diarias de diversos lugares de Australia."
   ]
  },
  {
   "cell_type": "markdown",
   "metadata": {},
   "source": [
    "### Metodología\n",
    "\n",
    "\n",
    "Debido al periodo reducido de tiempo utilizaremos el framework reducido de _design thinking_ + _scrum_ + _lean_. El cual al enfocarse a un solución basa en datos se denomina _Data thinking_ .\n",
    "\n",
    "Este framework sólo se utiliza para la la etapa de _design thinking_ y la primera iteración en la cual se construye el prototipo. Es decir el MVP, el cual le confirma el cliente que es viable una solución basada en datos."
   ]
  },
  {
   "cell_type": "markdown",
   "metadata": {},
   "source": [
    "<img src=\"images/data_thinking_prototipado.png\" alt=\"Drawing\" style=\"width:900px;\"/>"
   ]
  },
  {
   "cell_type": "markdown",
   "metadata": {},
   "source": [
    "Como metodología nativa de datos se utiliza CRISP-DM "
   ]
  },
  {
   "cell_type": "markdown",
   "metadata": {},
   "source": [
    "\n",
    "<img src=\"images/crisp_dm_flow01.png\" alt=\"Drawing\" style=\"width:900px;\"/>\n"
   ]
  },
  {
   "cell_type": "markdown",
   "metadata": {},
   "source": [
    "### WorkFlow\n",
    "\n",
    "El siguiente flujo es a un alto nivel, y describe el proceso para generar el prototipo de la solución."
   ]
  },
  {
   "cell_type": "markdown",
   "metadata": {},
   "source": [
    "<img src=\"images/work_flow.png\" alt=\"Drawing\" style=\"width:900px;\"/>\n"
   ]
  },
  {
   "cell_type": "code",
   "execution_count": null,
   "metadata": {},
   "outputs": [],
   "source": []
  }
 ],
 "metadata": {
  "kernelspec": {
   "display_name": "Python 3",
   "language": "python",
   "name": "python3"
  },
  "language_info": {
   "codemirror_mode": {
    "name": "ipython",
    "version": 3
   },
   "file_extension": ".py",
   "mimetype": "text/x-python",
   "name": "python",
   "nbconvert_exporter": "python",
   "pygments_lexer": "ipython3",
   "version": "3.7.4"
  }
 },
 "nbformat": 4,
 "nbformat_minor": 2
}
